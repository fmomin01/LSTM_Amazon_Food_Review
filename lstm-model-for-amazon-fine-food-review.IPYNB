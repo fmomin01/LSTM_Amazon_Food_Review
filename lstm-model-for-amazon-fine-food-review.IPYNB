{
 "cells": [
  {
   "cell_type": "markdown",
   "metadata": {},
   "source": [
    "## LSTM(Long Short Term Memory) on Amazon Fine Food Reviews\n\n### The Amazon Fine Food Reviews dataset consists of reviews of fine foods from Amazon.\n\nNumber of reviews: 568,454\nNumber of users: 256,059\nNumber of products: 74,258\nTimespan: Oct 1999 - Oct 2012\nNumber of Attributes/Columns in data: 10\n\n### Attribute Information:\n\nId\nProductId - unique identifier for the product\nUserId - unqiue identifier for the user\nProfileName\nHelpfulnessNumerator - number of users who found the review helpful\nHelpfulnessDenominator - number of users who indicated whether they found the review helpful or not\nScore - rating between 1 and 5\nTime - timestamp for the review\nSummary - brief summary of the review\nText - text of the review\n\n### Objective:\nGiven a review, determine whether the review is positive (Rating of 4 or 5) or negative (rating of 1 or 2)."
   ]
  },
  {
   "cell_type": "markdown",
   "metadata": {},
   "source": [
    "## Loading,Cleaning & Preprocessing the data\n\nThe dataset is available in two forms\n1. .csv file\n2. SQLite Database\n\nIn order to load the data, We have used the SQLITE dataset as it easier to query the data and visualise the data efficiently.\n<br> \n\nHere as we only want to get the global sentiment of the recommendations (positive or negative), we will purposefully ignore all Scores equal to 3. If the score id above 3, then the recommendation wil be set to \"positive\". Otherwise, it will be set to \"negative\".*italicized text*"
   ]
  },
  {
   "cell_type": "code",
   "execution_count": 1,
   "metadata": {
    "_uuid": "8f2839f25d086af736a60e9eeb907d3b93b6e0e5",
    "_cell_guid": "b1076dfc-b9ad-4769-8c92-a6c4dae69d19",
    "trusted": true
   },
   "outputs": [
    {
     "name": "stdout",
     "output_type": "stream",
     "text": [
      "/kaggle/input/amazon-fine-food-reviews/database.sqlite\n/kaggle/input/amazon-fine-food-reviews/hashes.txt\n/kaggle/input/amazon-fine-food-reviews/Reviews.csv\n"
     ]
    }
   ],
   "source": [
    "# This Python 3 environment comes with many helpful analytics libraries installed\n",
    "# It is defined by the kaggle/python Docker image: https://github.com/kaggle/docker-python\n",
    "# For example, here's several helpful packages to load\n",
    "\n",
    "import numpy as np # linear algebra\n",
    "import pandas as pd # data processing, CSV file I/O (e.g. pd.read_csv)\n",
    "\n",
    "# Input data files are available in the read-only \"../input/\" directory\n",
    "# For example, running this (by clicking run or pressing Shift+Enter) will list all files under the input directory\n",
    "\n",
    "import os\n",
    "for dirname, _, filenames in os.walk('/kaggle/input'):\n",
    "    for filename in filenames:\n",
    "        print(os.path.join(dirname, filename))\n",
    "\n",
    "# You can write up to 5GB to the current directory (/kaggle/working/) that gets preserved as output when you create a version using \"Save & Run All\" \n",
    "# You can also write temporary files to /kaggle/temp/, but they won't be saved outside of the current session"
   ]
  },
  {
   "cell_type": "markdown",
   "metadata": {},
   "source": [
    "### Import All Required Libraries "
   ]
  },
  {
   "cell_type": "code",
   "execution_count": 2,
   "metadata": {
    "_uuid": "d629ff2d2480ee46fbb7e2d37f6b5fab8052498a",
    "_cell_guid": "79c7e3d0-c299-4dcb-8224-4455121ee9b0",
    "trusted": true
   },
   "outputs": [],
   "source": [
    "%matplotlib inline\n",
    "import warnings \n",
    " \n",
    "warnings.filterwarnings(\"ignore\")"
   ]
  },
  {
   "cell_type": "code",
   "execution_count": 3,
   "metadata": {
    "trusted": true
   },
   "outputs": [],
   "source": [
    "import sqlite3\n",
    "import numpy as np\n",
    "from keras.models import Sequential\n",
    "from keras.layers import Dense\n",
    "from keras.layers import LSTM,Dropout\n",
    "from keras.layers.embeddings import Embedding\n",
    "from keras.preprocessing import sequence\n",
    "import string\n",
    "import matplotlib.pyplot as plt\n",
    "import seaborn as sns\n",
    "import pickle\n",
    "from tqdm import tqdm\n",
    "import os\n",
    "from tqdm import tqdm\n",
    "import os\n",
    "import pdb\n",
    "import pickle\n",
    "import re\n",
    "import nltk\n",
    "from collections import Counter\n",
    "from itertools import islice\n",
    "from sklearn.model_selection import train_test_split\n",
    "from keras.models import Sequential \n",
    "from keras.preprocessing import sequence\n",
    "from keras.initializers import he_normal\n",
    "from keras.layers import BatchNormalization, Dense, Dropout, Flatten, LSTM\n",
    "from keras.layers.embeddings import Embedding\n",
    "from keras.regularizers import L1L2"
   ]
  },
  {
   "cell_type": "markdown",
   "metadata": {},
   "source": [
    "## Connect to sqlite and fetch the data using SQL Query"
   ]
  },
  {
   "cell_type": "code",
   "execution_count": 4,
   "metadata": {
    "trusted": true
   },
   "outputs": [
    {
     "data": {
      "text/html": [
       "<div>\n<style scoped>\n    .dataframe tbody tr th:only-of-type {\n        vertical-align: middle;\n    }\n\n    .dataframe tbody tr th {\n        vertical-align: top;\n    }\n\n    .dataframe thead th {\n        text-align: right;\n    }\n</style>\n<table border=\"1\" class=\"dataframe\">\n  <thead>\n    <tr style=\"text-align: right;\">\n      <th></th>\n      <th>Id</th>\n      <th>ProductId</th>\n      <th>UserId</th>\n      <th>ProfileName</th>\n      <th>HelpfulnessNumerator</th>\n      <th>HelpfulnessDenominator</th>\n      <th>Score</th>\n      <th>Time</th>\n      <th>Summary</th>\n      <th>Text</th>\n    </tr>\n  </thead>\n  <tbody>\n    <tr>\n      <th>0</th>\n      <td>1</td>\n      <td>B001E4KFG0</td>\n      <td>A3SGXH7AUHU8GW</td>\n      <td>delmartian</td>\n      <td>1</td>\n      <td>1</td>\n      <td>5</td>\n      <td>1303862400</td>\n      <td>Good Quality Dog Food</td>\n      <td>I have bought several of the Vitality canned d...</td>\n    </tr>\n    <tr>\n      <th>1</th>\n      <td>2</td>\n      <td>B00813GRG4</td>\n      <td>A1D87F6ZCVE5NK</td>\n      <td>dll pa</td>\n      <td>0</td>\n      <td>0</td>\n      <td>1</td>\n      <td>1346976000</td>\n      <td>Not as Advertised</td>\n      <td>Product arrived labeled as Jumbo Salted Peanut...</td>\n    </tr>\n    <tr>\n      <th>2</th>\n      <td>3</td>\n      <td>B000LQOCH0</td>\n      <td>ABXLMWJIXXAIN</td>\n      <td>Natalia Corres \"Natalia Corres\"</td>\n      <td>1</td>\n      <td>1</td>\n      <td>4</td>\n      <td>1219017600</td>\n      <td>\"Delight\" says it all</td>\n      <td>This is a confection that has been around a fe...</td>\n    </tr>\n  </tbody>\n</table>\n</div>"
      ],
      "text/plain": [
       "   Id   ProductId          UserId                      ProfileName  \\\n0   1  B001E4KFG0  A3SGXH7AUHU8GW                       delmartian   \n1   2  B00813GRG4  A1D87F6ZCVE5NK                           dll pa   \n2   3  B000LQOCH0   ABXLMWJIXXAIN  Natalia Corres \"Natalia Corres\"   \n\n   HelpfulnessNumerator  HelpfulnessDenominator  Score        Time  \\\n0                     1                       1      5  1303862400   \n1                     0                       0      1  1346976000   \n2                     1                       1      4  1219017600   \n\n                 Summary                                               Text  \n0  Good Quality Dog Food  I have bought several of the Vitality canned d...  \n1      Not as Advertised  Product arrived labeled as Jumbo Salted Peanut...  \n2  \"Delight\" says it all  This is a confection that has been around a fe...  "
      ]
     },
     "execution_count": 4,
     "metadata": {},
     "output_type": "execute_result"
    }
   ],
   "source": [
    "con=sqlite3.connect('../input/amazon-fine-food-reviews/database.sqlite')\n",
    "\n",
    "filtered_data=pd.read_sql_query(\"\"\"SELECT * FROM Reviews WHERE Score !=3\"\"\",con)\n",
    "filtered_data.head(3)"
   ]
  },
  {
   "cell_type": "code",
   "execution_count": 5,
   "metadata": {
    "trusted": true
   },
   "outputs": [
    {
     "data": {
      "text/plain": [
       "(525814, 10)"
      ]
     },
     "execution_count": 5,
     "metadata": {},
     "output_type": "execute_result"
    }
   ],
   "source": [
    "filtered_data.shape"
   ]
  },
  {
   "cell_type": "code",
   "execution_count": 6,
   "metadata": {
    "trusted": true
   },
   "outputs": [
    {
     "name": "stdout",
     "output_type": "stream",
     "text": [
      "Number of datapoints (525814, 10)\n"
     ]
    },
    {
     "data": {
      "text/html": [
       "<div>\n<style scoped>\n    .dataframe tbody tr th:only-of-type {\n        vertical-align: middle;\n    }\n\n    .dataframe tbody tr th {\n        vertical-align: top;\n    }\n\n    .dataframe thead th {\n        text-align: right;\n    }\n</style>\n<table border=\"1\" class=\"dataframe\">\n  <thead>\n    <tr style=\"text-align: right;\">\n      <th></th>\n      <th>Id</th>\n      <th>ProductId</th>\n      <th>UserId</th>\n      <th>ProfileName</th>\n      <th>HelpfulnessNumerator</th>\n      <th>HelpfulnessDenominator</th>\n      <th>Score</th>\n      <th>Time</th>\n      <th>Summary</th>\n      <th>Text</th>\n    </tr>\n  </thead>\n  <tbody>\n    <tr>\n      <th>0</th>\n      <td>1</td>\n      <td>B001E4KFG0</td>\n      <td>A3SGXH7AUHU8GW</td>\n      <td>delmartian</td>\n      <td>1</td>\n      <td>1</td>\n      <td>positive</td>\n      <td>1303862400</td>\n      <td>Good Quality Dog Food</td>\n      <td>I have bought several of the Vitality canned d...</td>\n    </tr>\n    <tr>\n      <th>1</th>\n      <td>2</td>\n      <td>B00813GRG4</td>\n      <td>A1D87F6ZCVE5NK</td>\n      <td>dll pa</td>\n      <td>0</td>\n      <td>0</td>\n      <td>negative</td>\n      <td>1346976000</td>\n      <td>Not as Advertised</td>\n      <td>Product arrived labeled as Jumbo Salted Peanut...</td>\n    </tr>\n    <tr>\n      <th>2</th>\n      <td>3</td>\n      <td>B000LQOCH0</td>\n      <td>ABXLMWJIXXAIN</td>\n      <td>Natalia Corres \"Natalia Corres\"</td>\n      <td>1</td>\n      <td>1</td>\n      <td>positive</td>\n      <td>1219017600</td>\n      <td>\"Delight\" says it all</td>\n      <td>This is a confection that has been around a fe...</td>\n    </tr>\n  </tbody>\n</table>\n</div>"
      ],
      "text/plain": [
       "   Id   ProductId          UserId                      ProfileName  \\\n0   1  B001E4KFG0  A3SGXH7AUHU8GW                       delmartian   \n1   2  B00813GRG4  A1D87F6ZCVE5NK                           dll pa   \n2   3  B000LQOCH0   ABXLMWJIXXAIN  Natalia Corres \"Natalia Corres\"   \n\n   HelpfulnessNumerator  HelpfulnessDenominator     Score        Time  \\\n0                     1                       1  positive  1303862400   \n1                     0                       0  negative  1346976000   \n2                     1                       1  positive  1219017600   \n\n                 Summary                                               Text  \n0  Good Quality Dog Food  I have bought several of the Vitality canned d...  \n1      Not as Advertised  Product arrived labeled as Jumbo Salted Peanut...  \n2  \"Delight\" says it all  This is a confection that has been around a fe...  "
      ]
     },
     "execution_count": 6,
     "metadata": {},
     "output_type": "execute_result"
    }
   ],
   "source": [
    "def partition(x):\n",
    "  if x < 3 :\n",
    "    return 'negative'\n",
    "  return 'positive'\n",
    "\n",
    "actualScore=filtered_data['Score']\n",
    "positive_negative=actualScore.map(partition)\n",
    "filtered_data['Score']=positive_negative\n",
    "print(\"Number of datapoints\",filtered_data.shape)\n",
    "filtered_data.head(3)"
   ]
  },
  {
   "cell_type": "code",
   "execution_count": 7,
   "metadata": {
    "trusted": true
   },
   "outputs": [],
   "source": [
    "display = pd.read_sql_query(\"\"\"\n",
    "SELECT UserId, ProductId, ProfileName, Time, Score, Text, COUNT(*)\n",
    "FROM Reviews\n",
    "GROUP BY UserId\n",
    "HAVING COUNT(*)>1\n",
    "\"\"\", con)"
   ]
  },
  {
   "cell_type": "code",
   "execution_count": 8,
   "metadata": {
    "trusted": true
   },
   "outputs": [
    {
     "name": "stdout",
     "output_type": "stream",
     "text": [
      "(80668, 7)\n"
     ]
    },
    {
     "data": {
      "text/html": [
       "<div>\n<style scoped>\n    .dataframe tbody tr th:only-of-type {\n        vertical-align: middle;\n    }\n\n    .dataframe tbody tr th {\n        vertical-align: top;\n    }\n\n    .dataframe thead th {\n        text-align: right;\n    }\n</style>\n<table border=\"1\" class=\"dataframe\">\n  <thead>\n    <tr style=\"text-align: right;\">\n      <th></th>\n      <th>UserId</th>\n      <th>ProductId</th>\n      <th>ProfileName</th>\n      <th>Time</th>\n      <th>Score</th>\n      <th>Text</th>\n      <th>COUNT(*)</th>\n    </tr>\n  </thead>\n  <tbody>\n    <tr>\n      <th>0</th>\n      <td>#oc-R115TNMSPFT9I7</td>\n      <td>B005ZBZLT4</td>\n      <td>Breyton</td>\n      <td>1331510400</td>\n      <td>2</td>\n      <td>Overall its just OK when considering the price...</td>\n      <td>2</td>\n    </tr>\n    <tr>\n      <th>1</th>\n      <td>#oc-R11D9D7SHXIJB9</td>\n      <td>B005HG9ESG</td>\n      <td>Louis E. Emory \"hoppy\"</td>\n      <td>1342396800</td>\n      <td>5</td>\n      <td>My wife has recurring extreme muscle spasms, u...</td>\n      <td>3</td>\n    </tr>\n    <tr>\n      <th>2</th>\n      <td>#oc-R11DNU2NBKQ23Z</td>\n      <td>B005ZBZLT4</td>\n      <td>Kim Cieszykowski</td>\n      <td>1348531200</td>\n      <td>1</td>\n      <td>This coffee is horrible and unfortunately not ...</td>\n      <td>2</td>\n    </tr>\n  </tbody>\n</table>\n</div>"
      ],
      "text/plain": [
       "               UserId   ProductId             ProfileName        Time  Score  \\\n0  #oc-R115TNMSPFT9I7  B005ZBZLT4                 Breyton  1331510400      2   \n1  #oc-R11D9D7SHXIJB9  B005HG9ESG  Louis E. Emory \"hoppy\"  1342396800      5   \n2  #oc-R11DNU2NBKQ23Z  B005ZBZLT4        Kim Cieszykowski  1348531200      1   \n\n                                                Text  COUNT(*)  \n0  Overall its just OK when considering the price...         2  \n1  My wife has recurring extreme muscle spasms, u...         3  \n2  This coffee is horrible and unfortunately not ...         2  "
      ]
     },
     "execution_count": 8,
     "metadata": {},
     "output_type": "execute_result"
    }
   ],
   "source": [
    "print(display.shape)\n",
    "display.head(3)"
   ]
  },
  {
   "cell_type": "code",
   "execution_count": 9,
   "metadata": {
    "trusted": true
   },
   "outputs": [
    {
     "data": {
      "text/html": [
       "<div>\n<style scoped>\n    .dataframe tbody tr th:only-of-type {\n        vertical-align: middle;\n    }\n\n    .dataframe tbody tr th {\n        vertical-align: top;\n    }\n\n    .dataframe thead th {\n        text-align: right;\n    }\n</style>\n<table border=\"1\" class=\"dataframe\">\n  <thead>\n    <tr style=\"text-align: right;\">\n      <th></th>\n      <th>UserId</th>\n      <th>ProductId</th>\n      <th>ProfileName</th>\n      <th>Time</th>\n      <th>Score</th>\n      <th>Text</th>\n      <th>COUNT(*)</th>\n    </tr>\n  </thead>\n  <tbody>\n    <tr>\n      <th>80638</th>\n      <td>AZY10LLTJ71NX</td>\n      <td>B001ATMQK2</td>\n      <td>undertheshrine \"undertheshrine\"</td>\n      <td>1296691200</td>\n      <td>5</td>\n      <td>I bought this 6 pack because for the price tha...</td>\n      <td>5</td>\n    </tr>\n  </tbody>\n</table>\n</div>"
      ],
      "text/plain": [
       "              UserId   ProductId                      ProfileName        Time  \\\n80638  AZY10LLTJ71NX  B001ATMQK2  undertheshrine \"undertheshrine\"  1296691200   \n\n       Score                                               Text  COUNT(*)  \n80638      5  I bought this 6 pack because for the price tha...         5  "
      ]
     },
     "execution_count": 9,
     "metadata": {},
     "output_type": "execute_result"
    }
   ],
   "source": [
    "display[display[\"UserId\"]=='AZY10LLTJ71NX']"
   ]
  },
  {
   "cell_type": "code",
   "execution_count": 10,
   "metadata": {
    "trusted": true
   },
   "outputs": [
    {
     "data": {
      "text/plain": [
       "393063"
      ]
     },
     "execution_count": 10,
     "metadata": {},
     "output_type": "execute_result"
    }
   ],
   "source": [
    "display['COUNT(*)'].sum()"
   ]
  },
  {
   "cell_type": "code",
   "execution_count": 11,
   "metadata": {
    "trusted": true
   },
   "outputs": [
    {
     "data": {
      "text/html": [
       "<div>\n<style scoped>\n    .dataframe tbody tr th:only-of-type {\n        vertical-align: middle;\n    }\n\n    .dataframe tbody tr th {\n        vertical-align: top;\n    }\n\n    .dataframe thead th {\n        text-align: right;\n    }\n</style>\n<table border=\"1\" class=\"dataframe\">\n  <thead>\n    <tr style=\"text-align: right;\">\n      <th></th>\n      <th>Id</th>\n      <th>ProductId</th>\n      <th>UserId</th>\n      <th>ProfileName</th>\n      <th>HelpfulnessNumerator</th>\n      <th>HelpfulnessDenominator</th>\n      <th>Score</th>\n      <th>Time</th>\n      <th>Summary</th>\n      <th>Text</th>\n    </tr>\n  </thead>\n  <tbody>\n    <tr>\n      <th>0</th>\n      <td>78445</td>\n      <td>B000HDL1RQ</td>\n      <td>AR5J8UI46CURR</td>\n      <td>Geetha Krishnan</td>\n      <td>2</td>\n      <td>2</td>\n      <td>5</td>\n      <td>1199577600</td>\n      <td>LOACKER QUADRATINI VANILLA WAFERS</td>\n      <td>DELICIOUS WAFERS. I FIND THAT EUROPEAN WAFERS ...</td>\n    </tr>\n    <tr>\n      <th>1</th>\n      <td>138317</td>\n      <td>B000HDOPYC</td>\n      <td>AR5J8UI46CURR</td>\n      <td>Geetha Krishnan</td>\n      <td>2</td>\n      <td>2</td>\n      <td>5</td>\n      <td>1199577600</td>\n      <td>LOACKER QUADRATINI VANILLA WAFERS</td>\n      <td>DELICIOUS WAFERS. I FIND THAT EUROPEAN WAFERS ...</td>\n    </tr>\n    <tr>\n      <th>2</th>\n      <td>138277</td>\n      <td>B000HDOPYM</td>\n      <td>AR5J8UI46CURR</td>\n      <td>Geetha Krishnan</td>\n      <td>2</td>\n      <td>2</td>\n      <td>5</td>\n      <td>1199577600</td>\n      <td>LOACKER QUADRATINI VANILLA WAFERS</td>\n      <td>DELICIOUS WAFERS. I FIND THAT EUROPEAN WAFERS ...</td>\n    </tr>\n    <tr>\n      <th>3</th>\n      <td>73791</td>\n      <td>B000HDOPZG</td>\n      <td>AR5J8UI46CURR</td>\n      <td>Geetha Krishnan</td>\n      <td>2</td>\n      <td>2</td>\n      <td>5</td>\n      <td>1199577600</td>\n      <td>LOACKER QUADRATINI VANILLA WAFERS</td>\n      <td>DELICIOUS WAFERS. I FIND THAT EUROPEAN WAFERS ...</td>\n    </tr>\n    <tr>\n      <th>4</th>\n      <td>155049</td>\n      <td>B000PAQ75C</td>\n      <td>AR5J8UI46CURR</td>\n      <td>Geetha Krishnan</td>\n      <td>2</td>\n      <td>2</td>\n      <td>5</td>\n      <td>1199577600</td>\n      <td>LOACKER QUADRATINI VANILLA WAFERS</td>\n      <td>DELICIOUS WAFERS. I FIND THAT EUROPEAN WAFERS ...</td>\n    </tr>\n  </tbody>\n</table>\n</div>"
      ],
      "text/plain": [
       "       Id   ProductId         UserId      ProfileName  HelpfulnessNumerator  \\\n0   78445  B000HDL1RQ  AR5J8UI46CURR  Geetha Krishnan                     2   \n1  138317  B000HDOPYC  AR5J8UI46CURR  Geetha Krishnan                     2   \n2  138277  B000HDOPYM  AR5J8UI46CURR  Geetha Krishnan                     2   \n3   73791  B000HDOPZG  AR5J8UI46CURR  Geetha Krishnan                     2   \n4  155049  B000PAQ75C  AR5J8UI46CURR  Geetha Krishnan                     2   \n\n   HelpfulnessDenominator  Score        Time  \\\n0                       2      5  1199577600   \n1                       2      5  1199577600   \n2                       2      5  1199577600   \n3                       2      5  1199577600   \n4                       2      5  1199577600   \n\n                             Summary  \\\n0  LOACKER QUADRATINI VANILLA WAFERS   \n1  LOACKER QUADRATINI VANILLA WAFERS   \n2  LOACKER QUADRATINI VANILLA WAFERS   \n3  LOACKER QUADRATINI VANILLA WAFERS   \n4  LOACKER QUADRATINI VANILLA WAFERS   \n\n                                                Text  \n0  DELICIOUS WAFERS. I FIND THAT EUROPEAN WAFERS ...  \n1  DELICIOUS WAFERS. I FIND THAT EUROPEAN WAFERS ...  \n2  DELICIOUS WAFERS. I FIND THAT EUROPEAN WAFERS ...  \n3  DELICIOUS WAFERS. I FIND THAT EUROPEAN WAFERS ...  \n4  DELICIOUS WAFERS. I FIND THAT EUROPEAN WAFERS ...  "
      ]
     },
     "execution_count": 11,
     "metadata": {},
     "output_type": "execute_result"
    }
   ],
   "source": [
    "display= pd.read_sql_query(\"\"\"\n",
    "SELECT *\n",
    "FROM Reviews\n",
    "WHERE Score != 3 AND UserId=\"AR5J8UI46CURR\"\n",
    "ORDER BY ProductID\n",
    "\"\"\", con)\n",
    "display.head()"
   ]
  },
  {
   "cell_type": "code",
   "execution_count": 13,
   "metadata": {
    "trusted": true
   },
   "outputs": [
    {
     "data": {
      "text/plain": [
       "(364173, 10)"
      ]
     },
     "execution_count": 13,
     "metadata": {},
     "output_type": "execute_result"
    }
   ],
   "source": [
    "sorted_data=filtered_data.sort_values('ProductId',axis=0,ascending=True,inplace=False,kind='quicksort',na_position='last')\n",
    "\n",
    "final_data=sorted_data.drop_duplicates(subset={\"UserId\",\"ProfileName\",\"Time\",\"Text\"},keep='first',inplace=False)\n",
    "final_data.shape"
   ]
  },
  {
   "cell_type": "code",
   "execution_count": 14,
   "metadata": {
    "trusted": true
   },
   "outputs": [
    {
     "data": {
      "text/plain": [
       "69.25890143662969"
      ]
     },
     "execution_count": 14,
     "metadata": {},
     "output_type": "execute_result"
    }
   ],
   "source": [
    "(final_data['Id'].size*1.0)/(filtered_data['Id'].size*1.0)*100"
   ]
  },
  {
   "cell_type": "code",
   "execution_count": 15,
   "metadata": {
    "trusted": true
   },
   "outputs": [
    {
     "data": {
      "text/html": [
       "<div>\n<style scoped>\n    .dataframe tbody tr th:only-of-type {\n        vertical-align: middle;\n    }\n\n    .dataframe tbody tr th {\n        vertical-align: top;\n    }\n\n    .dataframe thead th {\n        text-align: right;\n    }\n</style>\n<table border=\"1\" class=\"dataframe\">\n  <thead>\n    <tr style=\"text-align: right;\">\n      <th></th>\n      <th>Id</th>\n      <th>ProductId</th>\n      <th>UserId</th>\n      <th>ProfileName</th>\n      <th>HelpfulnessNumerator</th>\n      <th>HelpfulnessDenominator</th>\n      <th>Score</th>\n      <th>Time</th>\n      <th>Summary</th>\n      <th>Text</th>\n    </tr>\n  </thead>\n  <tbody>\n    <tr>\n      <th>0</th>\n      <td>64422</td>\n      <td>B000MIDROQ</td>\n      <td>A161DK06JJMCYF</td>\n      <td>J. E. Stephens \"Jeanne\"</td>\n      <td>3</td>\n      <td>1</td>\n      <td>5</td>\n      <td>1224892800</td>\n      <td>Bought This for My Son at College</td>\n      <td>My son loves spaghetti so I didn't hesitate or...</td>\n    </tr>\n    <tr>\n      <th>1</th>\n      <td>44737</td>\n      <td>B001EQ55RW</td>\n      <td>A2V0I904FH7ABY</td>\n      <td>Ram</td>\n      <td>3</td>\n      <td>2</td>\n      <td>4</td>\n      <td>1212883200</td>\n      <td>Pure cocoa taste with crunchy almonds inside</td>\n      <td>It was almost a 'love at first bite' - the per...</td>\n    </tr>\n  </tbody>\n</table>\n</div>"
      ],
      "text/plain": [
       "      Id   ProductId          UserId              ProfileName  \\\n0  64422  B000MIDROQ  A161DK06JJMCYF  J. E. Stephens \"Jeanne\"   \n1  44737  B001EQ55RW  A2V0I904FH7ABY                      Ram   \n\n   HelpfulnessNumerator  HelpfulnessDenominator  Score        Time  \\\n0                     3                       1      5  1224892800   \n1                     3                       2      4  1212883200   \n\n                                        Summary  \\\n0             Bought This for My Son at College   \n1  Pure cocoa taste with crunchy almonds inside   \n\n                                                Text  \n0  My son loves spaghetti so I didn't hesitate or...  \n1  It was almost a 'love at first bite' - the per...  "
      ]
     },
     "execution_count": 15,
     "metadata": {},
     "output_type": "execute_result"
    }
   ],
   "source": [
    "display= pd.read_sql_query(\"\"\"\n",
    "SELECT *\n",
    "FROM Reviews\n",
    "WHERE Score != 3 AND Id=44737 OR Id=64422\n",
    "ORDER BY ProductID\n",
    "\"\"\", con)\n",
    "\n",
    "display.head()"
   ]
  },
  {
   "cell_type": "code",
   "execution_count": 16,
   "metadata": {
    "trusted": true
   },
   "outputs": [],
   "source": [
    "final_data=final_data[final_data.HelpfulnessNumerator<=final_data.HelpfulnessDenominator]"
   ]
  },
  {
   "cell_type": "markdown",
   "metadata": {},
   "source": [
    "## Count the Positive and Negative Review Counts"
   ]
  },
  {
   "cell_type": "code",
   "execution_count": 17,
   "metadata": {
    "trusted": true
   },
   "outputs": [
    {
     "name": "stdout",
     "output_type": "stream",
     "text": [
      "(364171, 10)\n"
     ]
    },
    {
     "data": {
      "text/plain": [
       "positive    307061\nnegative     57110\nName: Score, dtype: int64"
      ]
     },
     "execution_count": 17,
     "metadata": {},
     "output_type": "execute_result"
    }
   ],
   "source": [
    "print(final_data.shape)\n",
    "\n",
    "#How many positive and negative reviews are present in our dataset?\n",
    "final_data['Score'].value_counts()"
   ]
  },
  {
   "cell_type": "markdown",
   "metadata": {},
   "source": [
    "## Import nltk library"
   ]
  },
  {
   "cell_type": "code",
   "execution_count": 18,
   "metadata": {
    "trusted": true
   },
   "outputs": [
    {
     "name": "stdout",
     "output_type": "stream",
     "text": [
      "{'yourselves', \"won't\", 'ma', 'herself', 'them', 'didn', 'should', 'your', 'an', \"haven't\", 'wasn', 'his', 'who', \"you're\", 'don', 'now', 'on', 'until', 'there', 'than', 'just', 'they', 'he', 'once', 'have', 'own', \"mustn't\", 'then', 'being', 'before', \"mightn't\", 'hadn', 'nor', 'after', 'no', 'whom', 'under', 'over', 'when', 'will', 'll', 'did', 'out', 'am', 'are', \"aren't\", \"shouldn't\", 'same', 'their', 'wouldn', 're', 'me', 'ours', 'why', \"doesn't\", 'mightn', 'does', 'of', 'at', 'each', 'again', 'shouldn', 'too', \"needn't\", 'y', 'through', 'aren', 'all', 'themselves', 'mustn', 'very', 'what', 'shan', 'had', 'but', 'to', 'and', 'during', 'can', \"you'll\", 'few', 'as', 'myself', 'be', 'between', 'off', 't', 'our', 'for', 'a', 'o', 'some', \"wasn't\", 'below', \"it's\", 'any', 'theirs', 'further', 'we', \"don't\", 'm', 'if', 'ourselves', \"you'd\", 'because', 'were', 'isn', 'those', 've', 'other', 'it', 'couldn', 'i', 'the', 'where', 'from', \"weren't\", 'both', 'ain', 'doing', 'down', \"didn't\", 'more', 'that', 'd', 'doesn', 'is', 'yours', 'her', 'this', \"shan't\", 'hers', 'my', 'against', 'having', \"she's\", 'while', 'most', 'hasn', 'how', \"you've\", 'into', \"hasn't\", 'she', 'above', 'you', 'or', 'with', 'not', 'himself', 'needn', \"isn't\", 'in', 'has', 'haven', 'weren', 'was', 'been', 'here', \"that'll\", 'by', 'such', \"should've\", 'only', \"couldn't\", 'these', 'up', 'won', 'about', \"hadn't\", 'so', \"wouldn't\", 'yourself', 'do', 'him', 'its', 'which', 's', 'itself'}\n"
     ]
    }
   ],
   "source": [
    "\n",
    "from nltk.corpus import stopwords\n",
    "stopping_words=set(stopwords.words('english'))\n",
    "print(stopping_words)"
   ]
  },
  {
   "cell_type": "code",
   "execution_count": 19,
   "metadata": {
    "trusted": true
   },
   "outputs": [],
   "source": [
    "def clean_html(text):\n",
    "    clean_r = re.compile('<,*?>')\n",
    "    clean_text = re.sub(clean_r,'',text)\n",
    "    return clean_text\n",
    "\n",
    "def Clean_punc(text):\n",
    "    clean_sentence = re.sub(r'[?|!|\\'|\"|#]',r' ',text)\n",
    "    clean_data = re.sub(r'[.|,|)|(|\\|/)]',r' ',clean_sentence)\n",
    "    return clean_data"
   ]
  },
  {
   "cell_type": "code",
   "execution_count": 20,
   "metadata": {
    "trusted": true
   },
   "outputs": [
    {
     "name": "stderr",
     "output_type": "stream",
     "text": [
      "100%|██████████| 364171/364171 [08:20<00:00, 727.25it/s] \n"
     ]
    }
   ],
   "source": [
    "stem_no = nltk.stem.SnowballStemmer('english')\n",
    "\n",
    "if not os.path.isfile('final_data.sqlite'):\n",
    "    final_string=[]\n",
    "    all_positive_words=[]\n",
    "    all_negative_words=[]\n",
    "    for i,sentence in enumerate(tqdm(final_data['Text'].values)):\n",
    "        filtered_sentence=[]\n",
    "        sent_without_html_tags=clean_html(sentence)\n",
    "        #pdb.set_trace()\n",
    "        for w in sent_without_html_tags.split():\n",
    "            for cleaned_words in Clean_punc(w).split():\n",
    "                if ((cleaned_words.isalpha()) & (len(cleaned_words) > 2)):\n",
    "                    if(cleaned_words.lower() not in stopping_words) :\n",
    "                        stemming=(stem_no.stem(cleaned_words.lower())).encode('utf8')\n",
    "                        filtered_sentence.append(stemming)\n",
    "                        if(final_data['Score'].values)[i]=='positive':\n",
    "                            all_positive_words.append(stemming)\n",
    "                        if(final_data['Score'].values)[i]=='negative':\n",
    "                            all_negative_words.append(stemming)\n",
    "        str1 = b\" \".join(filtered_sentence)\n",
    "        final_string.append(str1)\n",
    "        \n",
    "    final_data['Cleaned_text']=final_string\n",
    "    final_data['Cleaned_text']=final_data['Cleaned_text'].str.decode(\"utf-8\")    \n",
    "    \n",
    "    conn = sqlite3.connect('final_data.sqlite')\n",
    "    cursor=conn.cursor\n",
    "    conn.text_factory = str\n",
    "    final_data.to_sql('Reviews',conn,schema=None,if_exists='replace',index=True,index_label=None,chunksize=None,dtype=None)\n",
    "    conn.close()\n",
    "    \n",
    "    \n",
    "    with open('positive_words.pkl','wb') as f :\n",
    "        pickle.dump(all_positive_words,f)\n",
    "    with open('negative_words.pkl','wb') as f :\n",
    "        pickle.dump(all_negative_words,f)"
   ]
  },
  {
   "cell_type": "code",
   "execution_count": 21,
   "metadata": {
    "trusted": true
   },
   "outputs": [],
   "source": [
    "final_data['total_words'] = [len(x.split()) for x in final_data['Cleaned_text'].tolist()] "
   ]
  },
  {
   "cell_type": "code",
   "execution_count": 22,
   "metadata": {
    "trusted": true
   },
   "outputs": [
    {
     "data": {
      "text/html": [
       "<div>\n<style scoped>\n    .dataframe tbody tr th:only-of-type {\n        vertical-align: middle;\n    }\n\n    .dataframe tbody tr th {\n        vertical-align: top;\n    }\n\n    .dataframe thead th {\n        text-align: right;\n    }\n</style>\n<table border=\"1\" class=\"dataframe\">\n  <thead>\n    <tr style=\"text-align: right;\">\n      <th></th>\n      <th>Id</th>\n      <th>ProductId</th>\n      <th>UserId</th>\n      <th>ProfileName</th>\n      <th>HelpfulnessNumerator</th>\n      <th>HelpfulnessDenominator</th>\n      <th>Score</th>\n      <th>Time</th>\n      <th>Summary</th>\n      <th>Text</th>\n      <th>Cleaned_text</th>\n      <th>total_words</th>\n    </tr>\n  </thead>\n  <tbody>\n    <tr>\n      <th>138706</th>\n      <td>150524</td>\n      <td>0006641040</td>\n      <td>ACITT7DI6IDDL</td>\n      <td>shari zychinski</td>\n      <td>0</td>\n      <td>0</td>\n      <td>positive</td>\n      <td>939340800</td>\n      <td>EVERY book is educational</td>\n      <td>this witty little book makes my son laugh at l...</td>\n      <td>witti littl book make son laugh loud recit car...</td>\n      <td>34</td>\n    </tr>\n    <tr>\n      <th>138688</th>\n      <td>150506</td>\n      <td>0006641040</td>\n      <td>A2IW4PEEKO2R0U</td>\n      <td>Tracy</td>\n      <td>1</td>\n      <td>1</td>\n      <td>positive</td>\n      <td>1194739200</td>\n      <td>Love the book, miss the hard cover version</td>\n      <td>I grew up reading these Sendak books, and watc...</td>\n      <td>grew read sendak book watch realli rosi movi i...</td>\n      <td>27</td>\n    </tr>\n    <tr>\n      <th>138689</th>\n      <td>150507</td>\n      <td>0006641040</td>\n      <td>A1S4A3IQ2MU7V4</td>\n      <td>sally sue \"sally sue\"</td>\n      <td>1</td>\n      <td>1</td>\n      <td>positive</td>\n      <td>1191456000</td>\n      <td>chicken soup with rice months</td>\n      <td>This is a fun way for children to learn their ...</td>\n      <td>fun way children learn month year learn poem t...</td>\n      <td>15</td>\n    </tr>\n  </tbody>\n</table>\n</div>"
      ],
      "text/plain": [
       "            Id   ProductId          UserId            ProfileName  \\\n138706  150524  0006641040   ACITT7DI6IDDL        shari zychinski   \n138688  150506  0006641040  A2IW4PEEKO2R0U                  Tracy   \n138689  150507  0006641040  A1S4A3IQ2MU7V4  sally sue \"sally sue\"   \n\n        HelpfulnessNumerator  HelpfulnessDenominator     Score        Time  \\\n138706                     0                       0  positive   939340800   \n138688                     1                       1  positive  1194739200   \n138689                     1                       1  positive  1191456000   \n\n                                           Summary  \\\n138706                   EVERY book is educational   \n138688  Love the book, miss the hard cover version   \n138689               chicken soup with rice months   \n\n                                                     Text  \\\n138706  this witty little book makes my son laugh at l...   \n138688  I grew up reading these Sendak books, and watc...   \n138689  This is a fun way for children to learn their ...   \n\n                                             Cleaned_text  total_words  \n138706  witti littl book make son laugh loud recit car...           34  \n138688  grew read sendak book watch realli rosi movi i...           27  \n138689  fun way children learn month year learn poem t...           15  "
      ]
     },
     "execution_count": 22,
     "metadata": {},
     "output_type": "execute_result"
    }
   ],
   "source": [
    "final_data.head(3)"
   ]
  },
  {
   "cell_type": "code",
   "execution_count": 23,
   "metadata": {
    "trusted": true
   },
   "outputs": [
    {
     "data": {
      "text/plain": [
       "(364171, 12)"
      ]
     },
     "execution_count": 23,
     "metadata": {},
     "output_type": "execute_result"
    }
   ],
   "source": [
    "final_data.shape"
   ]
  },
  {
   "cell_type": "markdown",
   "metadata": {},
   "source": [
    "## Pick the top 100K Data Points from the Dataset\n"
   ]
  },
  {
   "cell_type": "code",
   "execution_count": 24,
   "metadata": {
    "trusted": true
   },
   "outputs": [
    {
     "data": {
      "text/html": [
       "<div>\n<style scoped>\n    .dataframe tbody tr th:only-of-type {\n        vertical-align: middle;\n    }\n\n    .dataframe tbody tr th {\n        vertical-align: top;\n    }\n\n    .dataframe thead th {\n        text-align: right;\n    }\n</style>\n<table border=\"1\" class=\"dataframe\">\n  <thead>\n    <tr style=\"text-align: right;\">\n      <th></th>\n      <th>Id</th>\n      <th>ProductId</th>\n      <th>UserId</th>\n      <th>ProfileName</th>\n      <th>HelpfulnessNumerator</th>\n      <th>HelpfulnessDenominator</th>\n      <th>Score</th>\n      <th>Time</th>\n      <th>Summary</th>\n      <th>Text</th>\n      <th>Cleaned_text</th>\n      <th>total_words</th>\n    </tr>\n  </thead>\n  <tbody>\n    <tr>\n      <th>138706</th>\n      <td>150524</td>\n      <td>0006641040</td>\n      <td>ACITT7DI6IDDL</td>\n      <td>shari zychinski</td>\n      <td>0</td>\n      <td>0</td>\n      <td>positive</td>\n      <td>939340800</td>\n      <td>EVERY book is educational</td>\n      <td>this witty little book makes my son laugh at l...</td>\n      <td>witti littl book make son laugh loud recit car...</td>\n      <td>34</td>\n    </tr>\n    <tr>\n      <th>138688</th>\n      <td>150506</td>\n      <td>0006641040</td>\n      <td>A2IW4PEEKO2R0U</td>\n      <td>Tracy</td>\n      <td>1</td>\n      <td>1</td>\n      <td>positive</td>\n      <td>1194739200</td>\n      <td>Love the book, miss the hard cover version</td>\n      <td>I grew up reading these Sendak books, and watc...</td>\n      <td>grew read sendak book watch realli rosi movi i...</td>\n      <td>27</td>\n    </tr>\n  </tbody>\n</table>\n</div>"
      ],
      "text/plain": [
       "            Id   ProductId          UserId      ProfileName  \\\n138706  150524  0006641040   ACITT7DI6IDDL  shari zychinski   \n138688  150506  0006641040  A2IW4PEEKO2R0U            Tracy   \n\n        HelpfulnessNumerator  HelpfulnessDenominator     Score        Time  \\\n138706                     0                       0  positive   939340800   \n138688                     1                       1  positive  1194739200   \n\n                                           Summary  \\\n138706                   EVERY book is educational   \n138688  Love the book, miss the hard cover version   \n\n                                                     Text  \\\n138706  this witty little book makes my son laugh at l...   \n138688  I grew up reading these Sendak books, and watc...   \n\n                                             Cleaned_text  total_words  \n138706  witti littl book make son laugh loud recit car...           34  \n138688  grew read sendak book watch realli rosi movi i...           27  "
      ]
     },
     "execution_count": 24,
     "metadata": {},
     "output_type": "execute_result"
    }
   ],
   "source": [
    "final_data_100K=final_data[0:100000]\n",
    "amazon_polarity_labels=final_data_100K['Score'].values\n",
    "final_data_100K.head(2)"
   ]
  },
  {
   "cell_type": "code",
   "execution_count": 25,
   "metadata": {
    "trusted": true
   },
   "outputs": [],
   "source": [
    "X_Data_Text=final_data_100K['Cleaned_text']"
   ]
  },
  {
   "cell_type": "code",
   "execution_count": 26,
   "metadata": {
    "trusted": true
   },
   "outputs": [],
   "source": [
    "Y_Data_Score=final_data_100K['Score']"
   ]
  },
  {
   "cell_type": "code",
   "execution_count": 27,
   "metadata": {
    "trusted": true
   },
   "outputs": [
    {
     "data": {
      "text/plain": [
       "138706    witti littl book make son laugh loud recit car...\n138688    grew read sendak book watch realli rosi movi i...\n138689    fun way children learn month year learn poem t...\nName: Cleaned_text, dtype: object"
      ]
     },
     "execution_count": 27,
     "metadata": {},
     "output_type": "execute_result"
    }
   ],
   "source": [
    "X_Data_Text.head(3)"
   ]
  },
  {
   "cell_type": "code",
   "execution_count": 28,
   "metadata": {
    "trusted": true
   },
   "outputs": [],
   "source": [
    "X_Data_Text.index=[x for x in range(0,10**5)]"
   ]
  },
  {
   "cell_type": "markdown",
   "metadata": {},
   "source": [
    "## Get the list of all the words from the \"Cleaned Text\""
   ]
  },
  {
   "cell_type": "code",
   "execution_count": 29,
   "metadata": {
    "trusted": true
   },
   "outputs": [
    {
     "name": "stderr",
     "output_type": "stream",
     "text": [
      "100%|██████████| 100000/100000 [00:00<00:00, 318290.67it/s]\n"
     ]
    }
   ],
   "source": [
    "list_of_words = []\n",
    "for i in tqdm(X_Data_Text):\n",
    "    list_of_words += i\n",
    "list_of_words = ''.join(list_of_words)\n",
    "list_of_all_words=list_of_words.split()"
   ]
  },
  {
   "cell_type": "code",
   "execution_count": 30,
   "metadata": {
    "trusted": true
   },
   "outputs": [
    {
     "data": {
      "text/plain": [
       "'witti'"
      ]
     },
     "execution_count": 30,
     "metadata": {},
     "output_type": "execute_result"
    }
   ],
   "source": [
    "list_of_all_words[0]"
   ]
  },
  {
   "cell_type": "markdown",
   "metadata": {},
   "source": [
    "## Convert the List of words into SET and List"
   ]
  },
  {
   "cell_type": "code",
   "execution_count": 30,
   "metadata": {
    "trusted": true
   },
   "outputs": [],
   "source": [
    "vocab=set(list_of_all_words)\n",
    "vocab_list=list(vocab)"
   ]
  },
  {
   "cell_type": "code",
   "execution_count": 31,
   "metadata": {
    "trusted": true
   },
   "outputs": [
    {
     "data": {
      "text/plain": [
       "set"
      ]
     },
     "execution_count": 31,
     "metadata": {},
     "output_type": "execute_result"
    }
   ],
   "source": [
    "type(vocab)"
   ]
  },
  {
   "cell_type": "code",
   "execution_count": 33,
   "metadata": {
    "trusted": true
   },
   "outputs": [
    {
     "data": {
      "text/plain": [
       "'lisa'"
      ]
     },
     "execution_count": 33,
     "metadata": {},
     "output_type": "execute_result"
    }
   ],
   "source": [
    "vocab_list[0]"
   ]
  },
  {
   "cell_type": "code",
   "execution_count": 34,
   "metadata": {
    "trusted": true
   },
   "outputs": [
    {
     "name": "stderr",
     "output_type": "stream",
     "text": [
      "100%|██████████| 103077/103077 [1:34:36<00:00, 18.16it/s] \n"
     ]
    }
   ],
   "source": [
    "dict_freq={}\n",
    "for x in tqdm(vocab_list):\n",
    "    dict_freq[x]=list_of_all_words.count(x)"
   ]
  },
  {
   "cell_type": "code",
   "execution_count": 38,
   "metadata": {
    "trusted": true,
    "collapsed": true
   },
   "outputs": [
    {
     "data": {
      "text/plain": [
       "{'applyear': 1,\n 'bouillon': 149,\n 'calphalon': 3,\n 'drinksugar': 1,\n 'relishlove': 1,\n 'walmartorder': 1,\n 'ricepurchas': 4,\n 'programexpect': 1,\n 'awri': 1,\n 'dangl': 7,\n 'catyear': 1,\n 'middlstar': 1,\n 'sodiumfound': 1,\n 'canfield': 9,\n 'cherrigot': 2,\n 'honey': 2493,\n 'gatorad': 28,\n 'soon': 1114,\n 'ajemiandrink': 1,\n 'nurient': 1,\n 'purchashusband': 1,\n 'flavormani': 2,\n 'perfectmani': 1,\n 'spotuse': 2,\n 'orderdelici': 7,\n 'betterenjoy': 4,\n 'likepuf': 2,\n 'ethiopian': 26,\n 'foodservic': 1,\n 'rey': 2,\n 'yummibumbl': 1,\n 'couchboston': 1,\n 'sucros': 36,\n 'enjoygive': 2,\n 'seelike': 1,\n 'customhavent': 1,\n 'tasetpoland': 1,\n 'orderlive': 3,\n 'optionson': 1,\n 'recoverigreat': 1,\n 'stockalmost': 1,\n 'loveperfect': 2,\n 'changalthough': 1,\n 'happineither': 1,\n 'dillig': 1,\n 'swore': 21,\n 'peep': 17,\n 'stocktook': 1,\n 'teabold': 1,\n 'juuuust': 1,\n 'vagu': 96,\n 'yet': 2209,\n 'sleepsleepytim': 1,\n 'goodinstant': 1,\n 'mucinex': 1,\n 'ouchknow': 1,\n 'muffinproduct': 1,\n 'areaorder': 1,\n 'amazoz': 1,\n 'pbs': 9,\n 'morinu': 10,\n 'cameproduct': 1,\n 'brach': 28,\n 'mailreceiv': 1,\n 'sleepytimlike': 1,\n 'spicechai': 1,\n 'elsdesir': 1,\n 'gummilive': 1,\n 'doorgerman': 1,\n 'teamoroccan': 1,\n 'goodcurrent': 1,\n 'sor': 1,\n 'nastibusi': 1,\n 'sessioncat': 1,\n 'smith': 27,\n 'deliciyummi': 1,\n 'helpinstant': 1,\n 'bge': 1,\n 'offerrealli': 2,\n 'eatshirataki': 1,\n 'exud': 9,\n 'howevbest': 1,\n 'namewww': 1,\n 'greatfar': 2,\n 'detangl': 3,\n 'otherstarburst': 1,\n 'egglike': 1,\n 'huy': 30,\n 'likeabsolut': 1,\n 'orderdelight': 1,\n 'chowmeat': 1,\n 'productcomplaint': 2,\n 'pluscandi': 1,\n 'buysaw': 2,\n 'boxunabl': 1,\n 'malamut': 13,\n 'workenjoy': 1,\n 'saidfar': 1,\n 'triserv': 3,\n 'definget': 1,\n 'lifesardin': 1,\n 'heathpay': 1,\n 'bamilton': 1,\n 'reviewpossibl': 1,\n 'fantabullove': 1,\n 'changtea': 2,\n 'comebiodynam': 1,\n 'lettac': 1,\n 'superbpurchas': 1,\n 'woofer': 5,\n 'vacant': 4,\n 'moderregular': 1,\n 'meltidea': 1,\n 'storequinoa': 1,\n 'centdoubt': 1,\n 'composttea': 1,\n 'javapodz': 1,\n 'straightcannot': 1,\n 'ughstock': 1,\n 'favotir': 1,\n 'matchgrew': 1,\n 'promptlot': 1,\n 'pickbar': 1,\n 'pepperjar': 1,\n 'resturwonder': 1,\n 'amazonbone': 1,\n 'seensaw': 1,\n 'etclollipop': 1,\n 'itemlike': 4,\n 'hearlove': 1,\n 'cna': 1,\n 'buywhole': 3,\n 'agreeabl': 12,\n 'xxxxhot': 1,\n 'cockatiel': 2,\n 'jarlet': 1,\n 'skanki': 1,\n 'experidog': 3,\n 'thankulli': 1,\n 'lineretro': 1,\n 'calcul': 37,\n 'nutrishproduct': 1,\n 'considanoth': 1,\n 'felladog': 1,\n 'conditdifficult': 1,\n 'envoic': 1,\n 'un': 3,\n 'refilthought': 1,\n 'insidreadi': 1,\n 'castillo': 3,\n 'healthioatmeal': 1,\n 'chili': 1751,\n 'betterheaven': 1,\n 'weightlike': 1,\n 'purslove': 1,\n 'reminiscupdat': 1,\n 'nonethelessgreat': 1,\n 'mealchochol': 1,\n 'inventgot': 1,\n 'earligummi': 1,\n 'backtrue': 1,\n 'foundabsolut': 2,\n 'awesombouquet': 1,\n 'cabinetcooki': 1,\n 'statekid': 1,\n 'needagav': 1,\n 'sweatscoop': 2,\n 'needtook': 2,\n 'counterattack': 1,\n 'tastcinnimon': 1,\n 'mal': 4,\n 'creamitri': 1,\n 'trubl': 1,\n 'titch': 1,\n 'muchnewest': 1,\n 'subscript': 511,\n 'engllish': 1,\n 'paleolith': 1,\n 'babi': 1782,\n 'flourproduct': 2,\n 'igourmetfound': 1,\n 'onesix': 1,\n 'kittione': 1,\n 'solea': 2,\n 'wrapuse': 1,\n 'satanist': 2,\n 'trieveryon': 2,\n 'savebake': 1,\n 'onepurchas': 4,\n 'zicoalway': 1,\n 'maydelici': 2,\n 'asthet': 1,\n 'stresswww': 1,\n 'inulin': 14,\n 'enjoykeep': 1,\n 'reorderthought': 1,\n 'probablhesit': 1,\n 'imbal': 12,\n 'smokehosu': 1,\n 'flimeant': 1,\n 'foodawesom': 1,\n 'syrupbosco': 1,\n 'yearchew': 1,\n 'narrowtea': 1,\n 'vinorder': 1,\n 'lentiliniti': 1,\n 'purchasdecid': 2,\n 'klee': 2,\n 'replactri': 1,\n 'limeproduct': 1,\n 'sugarjoseph': 1,\n 'thingsauc': 2,\n 'greatspecialti': 1,\n 'flavorsomehow': 1,\n 'ordenjoy': 1,\n 'rebelli': 3,\n 'popcorneven': 1,\n 'muddi': 30,\n 'experiprice': 1,\n 'tripmani': 1,\n 'follett': 1,\n 'brandperfect': 1,\n 'vendorlike': 1,\n 'waitnormal': 1,\n 'saywant': 1,\n 'comwant': 1,\n 'pricequick': 3,\n 'waterfather': 1,\n 'quarrel': 2,\n 'carriwatch': 1,\n 'aftertastbrother': 1,\n 'orderrecommend': 1,\n 'providmon': 1,\n 'courstextur': 1,\n 'eaterrealli': 1,\n 'blandrealli': 1,\n 'overdevelop': 1,\n 'absolutey': 1,\n 'valley': 219,\n 'manicooki': 1,\n 'petsubscrib': 1,\n 'wondrous': 8,\n 'krustaez': 1,\n 'barwell': 1,\n 'joli': 1,\n 'greek': 238,\n 'unauthent': 2,\n 'tao': 5,\n 'jobrestaur': 1,\n 'servicsimpli': 1,\n 'detoxifigreat': 1,\n 'yehuda': 1,\n 'umf': 19,\n 'eaten': 1380,\n 'museum': 19,\n 'christmabeauti': 1,\n 'colddrink': 1,\n 'thoughcolleg': 1,\n 'elsewhwer': 1,\n 'orderspecial': 1,\n 'reviewnote': 1,\n 'animlove': 1,\n 'noglove': 1,\n 'parisienn': 1,\n 'uncl': 72,\n 'journalist': 3,\n 'sourcbought': 1,\n 'brandgrew': 3,\n 'coyotone': 1,\n 'quicklook': 2,\n 'thou': 5,\n 'nevada': 9,\n 'naturbought': 2,\n 'toothpurchas': 1,\n 'buypiec': 2,\n 'heatwrong': 1,\n 'healthitasti': 1,\n 'footannoy': 1,\n 'cupcaksprinkl': 1,\n 'goooodgreat': 1,\n 'missbought': 1,\n 'candibox': 1,\n 'crashuse': 1,\n 'selldealt': 1,\n 'spotgot': 1,\n 'worthbaklawa': 1,\n 'timet': 1,\n 'mussel': 17,\n 'teahonest': 1,\n 'taststash': 1,\n 'frazzl': 10,\n 'treattitl': 1,\n 'plate': 331,\n 'ptoduct': 1,\n 'afterwardeat': 1,\n 'unlimit': 6,\n 'caloricould': 1,\n 'pointpud': 1,\n 'anyonprevious': 1,\n 'sandwhich': 22,\n 'nightmarish': 2,\n 'budgi': 1,\n 'costariccan': 1,\n 'goodmother': 1,\n 'ineleg': 2,\n 'yetlucozad': 1,\n 'muchevilspeak': 1,\n 'nonesuch': 1,\n 'held': 204,\n 'sellerroast': 1,\n 'ruuuuuuuuuuuunnnnnnnnnnnnn': 1,\n 'gingerminc': 1,\n 'turq': 2,\n 'brah': 1,\n 'shipmade': 2,\n 'rewrap': 5,\n 'facekraft': 1,\n 'camparison': 1,\n 'dollarsmooth': 1,\n 'statefavorit': 1,\n 'optionproduct': 2,\n 'nation': 133,\n 'knowpleas': 1,\n 'lostmari': 1,\n 'dozen': 426,\n 'latino': 7,\n 'luckgive': 1,\n 'powderexact': 1,\n 'scuff': 1,\n 'remembritter': 1,\n 'specialdog': 1,\n 'ohiolast': 1,\n 'deliciososssssslove': 1,\n 'pollack': 1,\n 'eitheruse': 6,\n 'moneysenseo': 1,\n 'descriptsay': 1,\n 'workcake': 1,\n 'caritem': 1,\n 'siphotrol': 1,\n 'tjerrild': 1,\n 'jujub': 1,\n 'accordwrinkl': 1,\n 'wasab': 4,\n 'lazimonth': 1,\n 'creamrich': 1,\n 'indulggellatin': 1,\n 'mouthtin': 1,\n 'extric': 1,\n 'emptorflour': 1,\n 'attact': 2,\n 'sporad': 21,\n 'foodpet': 2,\n 'activlove': 2,\n 'porkhid': 1,\n 'cholesterolthird': 1,\n 'shoptast': 1,\n 'satisfactorilook': 1,\n 'panuse': 2,\n 'dutchman': 4,\n 'buenoeat': 1,\n 'kluski': 9,\n 'benni': 1,\n 'productucc': 1,\n 'productstock': 1,\n 'muchone': 2,\n 'onlinprobe': 1,\n 'moneyseem': 1,\n 'screenplay': 2,\n 'everdisappoint': 1,\n 'varietihigh': 1,\n 'microwavdisappoint': 1,\n 'moneyever': 1,\n 'infinitesim': 1,\n 'extravaganza': 2,\n 'busiorder': 3,\n 'hallandal': 1,\n 'contineti': 1,\n 'cupbox': 1,\n 'shipmake': 2,\n 'satisfialway': 1,\n 'drainadd': 1,\n 'getperson': 1,\n 'mvr': 1,\n 'gooddiscov': 2,\n 'bolivar': 2,\n 'thinkkettl': 1,\n 'enjoyhope': 1,\n 'lolbought': 9,\n 'orderrice': 1,\n 'megaplex': 1,\n 'kinnitooguy': 1,\n 'snoop': 1,\n 'dunn': 3,\n 'garcia': 1,\n 'busiuse': 1,\n 'thrillpackag': 1,\n 'wisconsinone': 1,\n 'pocketgreat': 1,\n 'catorder': 1,\n 'gaug': 15,\n 'turduckhen': 1,\n 'taurin': 29,\n 'greasilove': 1,\n 'minton': 1,\n 'rule': 114,\n 'popbetti': 1,\n 'courscouscous': 1,\n 'todaypackag': 1,\n 'rollgirl': 1,\n 'foodstand': 1,\n 'gummmi': 2,\n 'resistnever': 1,\n 'eitherfit': 1,\n 'recommendeveri': 4,\n 'boblici': 1,\n 'tectur': 3,\n 'showflavor': 1,\n 'pregnancorder': 2,\n 'rhode': 6,\n 'gosh': 30,\n 'nutti': 593,\n 'eversinc': 4,\n 'weekfamili': 1,\n 'aweesom': 1,\n 'chefson': 1,\n 'activtea': 1,\n 'salttast': 1,\n 'careamerican': 1,\n 'washerproduct': 1,\n 'hurricould': 1,\n 'polo': 2,\n 'accupuncturest': 1,\n 'pricetruli': 1,\n 'tore': 59,\n 'fong': 52,\n 'availstart': 3,\n 'wiggum': 1,\n 'gladlike': 2,\n 'chocolwaaaay': 1,\n 'imiti': 2,\n 'april': 91,\n 'adrienn': 1,\n 'lovvvee': 1,\n 'kidadmit': 1,\n 'michoacan': 1,\n 'beveragask': 1,\n 'guesstim': 4,\n 'checkson': 1,\n 'highsauc': 1,\n 'likerisotto': 1,\n 'thoughsoup': 1,\n 'couscous': 229,\n 'althought': 3,\n 'coffewheat': 1,\n 'ingeniapal': 1,\n 'spoonful': 10,\n 'beautigood': 1,\n 'furikaklove': 1,\n 'freshfast': 1,\n 'purifiabsolut': 1,\n 'uselet': 1,\n 'whatcha': 1,\n 'fleur': 39,\n 'expensbought': 2,\n 'porport': 1,\n 'aisltri': 1,\n 'ristra': 1,\n 'origni': 1,\n 'sodakid': 1,\n 'foutain': 1,\n 'donsum': 1,\n 'friendfan': 1,\n 'garbagproduct': 1,\n 'bouqet': 2,\n 'faborm': 2,\n 'quatiti': 1,\n 'pokelive': 1,\n 'jamesvill': 1,\n 'bro': 2,\n 'yer': 8,\n 'hyperplasia': 1,\n 'caloriquit': 1,\n 'enjoyitem': 3,\n 'bourbon': 34,\n 'tastfound': 3,\n 'haveaheart': 1,\n 'carribought': 1,\n 'lijang': 1,\n 'hamhock': 1,\n 'consder': 1,\n 'griteverybodi': 1,\n 'boostalmost': 1,\n 'dayagre': 3,\n 'hyperbol': 11,\n 'consumusual': 1,\n 'amazorgan': 1,\n 'and': 3,\n 'benefitexcel': 1,\n 'unbelievdisappoint': 1,\n 'fkavor': 1,\n 'useclose': 1,\n 'anywherson': 1,\n 'spirit': 61,\n 'grewwlike': 1,\n 'gonelike': 3,\n 'shamethink': 1,\n 'recant': 1,\n 'delicismith': 1,\n 'experitri': 1,\n 'areaa': 1,\n 'productmain': 2,\n 'flavoreveryon': 4,\n 'fanbought': 1,\n 'lovercoffe': 2,\n 'conditcompani': 1,\n 'fashiontime': 1,\n 'maranad': 1,\n 'eden': 217,\n 'moistlarg': 1,\n 'helpfriend': 1,\n 'kidnice': 1,\n 'glasgow': 5,\n 'yummilook': 2,\n 'homebest': 6,\n 'manuafactur': 1,\n 'healthitri': 3,\n 'efendi': 16,\n 'borelook': 1,\n 'coli': 3,\n 'paprikash': 3,\n 'podjamaican': 1,\n 'greatfind': 3,\n 'stuffscottish': 1,\n 'vape': 2,\n 'bigg': 1,\n 'zimmern': 1,\n 'delicibeauti': 1,\n 'absurdwife': 1,\n 'pretzelnasti': 1,\n 'saytabasco': 1,\n 'lifter': 1,\n 'manang': 1,\n 'remedimake': 1,\n 'wellread': 4,\n 'averaggave': 1,\n 'spinkl': 4,\n 'killever': 1,\n 'praisbreakfast': 1,\n 'sugartasti': 1,\n 'theri': 3,\n 'sever': 4043,\n 'yethealli': 1,\n 'hotttt': 1,\n 'beatread': 1,\n 'cakeheard': 1,\n 'regrethonest': 1,\n 'flabbi': 3,\n 'sodateen': 1,\n 'nutritiondata': 1,\n 'unavail': 91,\n 'amazonknow': 6,\n 'parrot': 11,\n 'dutto': 1,\n 'caloribought': 5,\n 'conveinc': 2,\n 'welllll': 2,\n 'cubeorder': 1,\n 'sizebaklawa': 1,\n 'predat': 12,\n 'oldercommon': 1,\n 'issu': 1602,\n 'manirealli': 1,\n 'maui': 18,\n 'likestuff': 3,\n 'lovewehani': 1,\n 'zweiback': 2,\n 'pumpkinse': 13,\n 'preparmake': 1,\n 'enjoylive': 4,\n 'testfar': 1,\n 'readihusband': 1,\n 'brownihappili': 1,\n 'responsgot': 1,\n 'spinnin': 1,\n 'grimi': 1,\n 'surpriscake': 1,\n 'workorigin': 1,\n 'coldtea': 3,\n 'terriblyorkshi': 1,\n 'giftgrew': 1,\n 'alternrealli': 1,\n 'morsparmigiano': 1,\n 'remedel': 1,\n 'pasturis': 1,\n 'comprabl': 4,\n 'be': 19,\n 'handparticular': 1,\n 'junkbox': 1,\n 'stewart': 18,\n 'terrifi': 21,\n 'tor': 5,\n 'offerbodi': 1,\n 'breadwhenev': 1,\n 'roat': 1,\n 'boxcooki': 4,\n 'folkone': 1,\n 'arn': 1,\n 'getbrowni': 1,\n 'quibbl': 14,\n 'buoonci': 2,\n 'essen': 1,\n 'muchmade': 1,\n 'allmost': 2,\n 'roberto': 2,\n 'butterpurchas': 1,\n 'buynoth': 1,\n 'pyridin': 1,\n 'driplonger': 1,\n 'palatpleas': 1,\n 'nesquick': 5,\n 'ese': 31,\n 'cheeswasa': 1,\n 'prompttrick': 1,\n 'flavorclaim': 1,\n 'thingwent': 1,\n 'veggikid': 1,\n 'zicodrink': 1,\n 'chipolt': 10,\n 'resultoffshor': 1,\n 'commentuse': 1,\n 'entertaingot': 3,\n 'worthsee': 1,\n 'kroeger': 1,\n 'shuck': 2,\n 'maltitolproduct': 1,\n 'bitti': 22,\n 'thanklet': 3,\n 'quickhealthi': 1,\n 'baratza': 1,\n 'rightwrite': 1,\n 'waydaughter': 1,\n 'pappardell': 5,\n 'blunder': 2,\n 'worthwhilfavorit': 1,\n 'onedebbi': 1,\n 'consol': 3,\n 'choosuse': 1,\n 'thankimmedi': 1,\n 'motheruse': 1,\n 'storybook': 1,\n 'ordertreat': 2,\n 'recommendlipton': 1,\n 'benefactor': 1,\n 'subscriptuse': 1,\n 'recommendafford': 1,\n 'mmmmtast': 1,\n 'nester': 2,\n 'congratulthank': 1,\n 'blendspice': 1,\n 'notchone': 1,\n 'forget': 394,\n 'bitspecial': 1,\n 'lemonaid': 2,\n 'sexexcel': 2,\n 'delicimrs': 1,\n 'dreamdrink': 1,\n 'secondexcel': 1,\n 'mouthuse': 3,\n 'eightish': 1,\n 'raichlen': 3,\n 'giardiniera': 1,\n 'anywherhusband': 2,\n 'daytripl': 1,\n 'micropast': 1,\n 'messay': 1,\n 'anymorwant': 2,\n 'thankstart': 2,\n 'brooklynorder': 1,\n 'valutazo': 1,\n 'hatecat': 1,\n 'microb': 2,\n 'genmaicharecent': 1,\n 'dangeruse': 1,\n 'conceptsoori': 1,\n 'foodcalico': 1,\n 'doggrew': 1,\n 'mixcrave': 1,\n 'purchaspleas': 2,\n 'jamestown': 2,\n 'wouldbuy': 1,\n 'station': 137,\n 'roastfogbust': 1,\n 'bulkmonth': 1,\n 'recommendnesquick': 1,\n 'yamamotoyamapouch': 1,\n 'futurgot': 2,\n 'eatwould': 1,\n 'dumond': 3,\n 'openmove': 1,\n 'starv': 99,\n 'dinesen': 1,\n 'morsel': 96,\n 'dayyogi': 1,\n 'lovevisit': 1,\n 'fettuccinn': 1,\n 'wantdream': 1,\n 'badtri': 1,\n 'larabarlove': 2,\n 'sourgrew': 1,\n 'memphi': 15,\n 'workoutthree': 1,\n 'unitproduct': 1,\n 'priceterribl': 1,\n 'julien': 5,\n 'capresa': 1,\n 'christmatri': 3,\n 'rediscoveri': 1,\n 'unprotect': 2,\n 'consequ': 55,\n 'pointhusband': 2,\n 'buckhard': 1,\n 'adjustrecent': 1,\n 'eitheryet': 1,\n 'void': 22,\n 'bottel': 1,\n 'toastshort': 1,\n 'gummiharibo': 1,\n 'wheaton': 1,\n 'asd': 2,\n 'barseller': 1,\n 'trail': 202,\n 'programlike': 2,\n 'dogdog': 44,\n 'disguststapl': 1,\n 'blueberrirealli': 1,\n 'chokecherri': 29,\n 'quitgot': 1,\n 'sumdad': 1,\n 'nutmeggi': 1,\n 'sth': 1,\n 'pumptook': 1,\n 'pomac': 7,\n 'goodcolor': 1,\n 'bouchon': 1,\n 'sushieveryth': 1,\n 'comekitten': 1,\n 'healthbob': 1,\n 'excelthree': 1,\n 'piano': 2,\n 'savesimpl': 1,\n 'bagwait': 1,\n 'marketactual': 1,\n 'alsorecent': 1,\n 'siames': 36,\n 'lackadais': 1,\n 'cerer': 2,\n 'clay': 182,\n 'flavormild': 2,\n 'fillprocess': 1,\n 'shakelove': 1,\n 'bagthought': 3,\n 'conditfamili': 1,\n 'ach': 123,\n 'extrawife': 1,\n 'anymorfind': 1,\n 'bestwonder': 3,\n 'zinc': 44,\n 'wheelbarrow': 1,\n 'greatsent': 2,\n 'believknow': 1,\n 'friendstart': 1,\n 'jobproduct': 1,\n 'quibblwell': 1,\n 'marketthink': 2,\n 'eficiencia': 1,\n 'brainiac': 1,\n 'bionatura': 1,\n 'veggistuff': 1,\n 'hashimoto': 1,\n 'dippop': 1,\n 'reunithusband': 1,\n 'tracksatisfi': 1,\n 'pregnanctea': 1,\n 'goodraw': 2,\n 'ie': 1,\n 'maya': 9,\n 'nightuse': 2,\n 'increasson': 1,\n 'producttini': 2,\n 'buyfour': 1,\n 'tinprice': 1,\n 'blendone': 1,\n 'maranta': 1,\n 'flavorgluten': 1,\n 'caravan': 17,\n 'worldabsolut': 1,\n 'frenchwww': 1,\n 'prfere': 1,\n 'winnerhusband': 2,\n 'mealmeat': 1,\n 'soop': 1,\n 'shrubdog': 1,\n 'sugarlast': 2,\n 'thankextrem': 1,\n 'goldendoodl': 12,\n 'usemuch': 2,\n 'take': 6670,\n 'liaison': 1,\n 'atw': 1,\n 'prearl': 1,\n 'meetuse': 1,\n 'haveen': 1,\n 'trifemal': 1,\n 'crunchireceiv': 1,\n 'romain': 24,\n 'creacker': 1,\n 'muscovado': 12,\n 'recommendtazo': 2,\n 'whos': 7,\n 'defil': 1,\n 'ziollook': 1,\n 'popcorntire': 1,\n 'stuffherdez': 1,\n 'sweetgrapefruit': 1,\n 'orderproduct': 22,\n 'meatworst': 1,\n 'debas': 1,\n 'unsweetn': 2,\n 'candida': 27,\n 'dinnermani': 1,\n 'greatmani': 1,\n 'expensbox': 1,\n 'tieproduct': 1,\n 'amazonceliac': 1,\n 'triprice': 2,\n 'healthifavorit': 2,\n 'anyonbucket': 1,\n 'malian': 1,\n 'preparbeat': 1,\n 'mistiqu': 1,\n 'oitment': 1,\n 'healthrealli': 2,\n 'orderpretend': 1,\n 'areadaughter': 1,\n 'helptitl': 1,\n 'storecat': 4,\n 'pricefavorit': 13,\n 'shadi': 13,\n 'rid': 335,\n 'mcenro': 1,\n 'sweetenback': 1,\n 'thujon': 1,\n 'friendgrow': 1,\n 'summari': 40,\n 'mcg': 8,\n 'alotexcel': 1,\n 'sauci': 13,\n 'perfectorgan': 1,\n 'alyson': 1,\n 'nauseous': 40,\n 'treadmilthink': 1,\n 'foe': 3,\n 'kitchenbarri': 1,\n 'bernais': 4,\n 'lovesister': 1,\n 'greatyuck': 1,\n 'sattvic': 1,\n 'flavorbeauti': 1,\n 'amazonawesom': 1,\n 'sweetpleas': 1,\n 'undermin': 2,\n 'connelliproduct': 1,\n 'evrywher': 1,\n 'tailspin': 1,\n 'treatfeed': 3,\n 'cloudi': 41,\n 'onecannot': 2,\n 'floridalove': 1,\n 'accordion': 1,\n 'enjoyreason': 1,\n 'anymorfantast': 1,\n 'funcoffe': 1,\n 'packagbig': 1,\n 'yummidiamet': 1,\n 'handiharsh': 1,\n 'caloriremind': 1,\n 'bori': 1,\n 'bathson': 1,\n 'shippent': 1,\n 'marrigrandson': 1,\n 'perfectwow': 2,\n 'buyfiji': 1,\n 'empart': 1,\n 'uisgu': 1,\n 'fillcreami': 1,\n 'consumeat': 1,\n 'rockwrong': 1,\n 'lamplight': 1,\n 'hotgreat': 1,\n 'promptwant': 1,\n 'serj': 1,\n 'paypacif': 1,\n 'sweatshop': 2,\n 'pricefrench': 1,\n 'kicksnack': 1,\n 'chessi': 4,\n 'deallike': 7,\n 'after': 1,\n 'richorgan': 1,\n 'gerberpurchas': 1,\n 'helpold': 1,\n 'sazerac': 1,\n 'expirfirst': 1,\n 'conditstuff': 1,\n 'valurealli': 5,\n 'minutnineti': 1,\n 'farther': 25,\n 'comparnumber': 1,\n 'olivevinever': 1,\n 'snackcooki': 2,\n 'chocolchocolatey': 1,\n 'fantastbake': 1,\n 'eatpick': 2,\n 'htan': 1,\n 'donefamili': 1,\n 'disgustunhappi': 1,\n 'reviewread': 1,\n 'productgranddaught': 1,\n 'adfar': 1,\n 'mmmmlime': 1,\n 'tearather': 1,\n 'backwonder': 1,\n 'perimenopaus': 1,\n 'thankfianc': 1,\n 'zinnia': 1,\n 'formramun': 1,\n 'agewonder': 1,\n 'enoughyummi': 1,\n 'responsdisappoint': 1,\n 'sweetpurcgas': 1,\n 'oillong': 1,\n 'stuffdefinit': 1,\n 'unharm': 3,\n 'kay': 41,\n 'lunchtimmuffin': 1,\n 'awaesom': 1,\n 'tossd': 1,\n 'thankword': 1,\n 'companinoodl': 1,\n 'summervanilla': 1,\n 'prefernc': 1,\n 'grine': 1,\n 'trainadopt': 1,\n 'everbought': 5,\n 'dogchoosi': 1,\n 'toppingg': 1,\n 'changwoeber': 1,\n 'yuckone': 1,\n 'scentgot': 2,\n 'patrol': 5,\n 'wantlove': 10,\n 'gus': 6,\n 'creamagre': 1,\n 'motherarriv': 1,\n 'bald': 18,\n 'rotatcat': 1,\n 'favoritrememb': 1,\n 'dogswellarg': 1,\n 'customread': 1,\n 'onefiance': 1,\n 'klasiktir': 1,\n 'blini': 1,\n 'billionultim': 1,\n 'melitt': 1,\n 'moderthorough': 1,\n 'solutgood': 1,\n 'localfar': 1,\n 'priceexquisit': 1,\n 'plasma': 5,\n 'tastilocal': 1,\n 'gyahhh': 1,\n 'thingfed': 1,\n 'misfil': 1,\n 'storeeveri': 1,\n 'toxoid': 1,\n 'greatfavorit': 6,\n 'thinkbesid': 1,\n 'oneunlik': 2,\n 'comedireview': 1,\n 'quebec': 6,\n 'catgrass': 1,\n 'badone': 1,\n 'artificiexact': 1,\n 'lateryes': 1,\n 'burpuse': 1,\n 'flatbread': 36,\n 'chancunwrap': 1,\n 'concernmuch': 1,\n 'jarkid': 1,\n ...}"
      ]
     },
     "execution_count": 38,
     "metadata": {},
     "output_type": "execute_result"
    }
   ],
   "source": [
    "dict_freq"
   ]
  },
  {
   "cell_type": "code",
   "execution_count": 37,
   "metadata": {
    "trusted": true
   },
   "outputs": [],
   "source": [
    "(pd.DataFrame.from_dict(data=dict_freq, orient='index')\n",
    "   .to_csv('dict_file.csv', header=False))"
   ]
  },
  {
   "cell_type": "markdown",
   "metadata": {},
   "source": [
    "## Use Counter function to count the number of Unique words and pick the top 5000 words and add in the dictionary "
   ]
  },
  {
   "cell_type": "code",
   "execution_count": 32,
   "metadata": {
    "trusted": true
   },
   "outputs": [
    {
     "name": "stdout",
     "output_type": "stream",
     "text": [
      "Number of sentences in complete dataset :  3488783\nNumber of unique words present :  103077\n\nTop 25 words with their frequencies:\n[('like', 38877), ('tast', 37698), ('tea', 33156), ('good', 29934), ('product', 29213), ('use', 29058), ('flavor', 28866), ('one', 28605), ('great', 25821), ('love', 24096), ('make', 23406), ('tri', 23337), ('get', 21851), ('food', 18331), ('amazon', 17278), ('would', 17245), ('time', 17142), ('eat', 16362), ('buy', 15401), ('find', 15243), ('also', 14003), ('much', 13957), ('realli', 13946), ('bag', 13511), ('order', 13476)]\n\nTop 25 words with their index:\n[('like', 1), ('tast', 2), ('tea', 3), ('good', 4), ('product', 5), ('use', 6), ('flavor', 7), ('one', 8), ('great', 9), ('love', 10), ('make', 11), ('tri', 12), ('get', 13), ('food', 14), ('amazon', 15), ('would', 16), ('time', 17), ('eat', 18), ('buy', 19), ('find', 20), ('also', 21), ('much', 22), ('realli', 23), ('bag', 24), ('order', 25)]\n"
     ]
    }
   ],
   "source": [
    "print(\"Number of sentences in complete dataset : \",len(list_of_all_words))\n",
    "\n",
    "counts_words = Counter(list_of_all_words)\n",
    "print(\"Number of unique words present : \",len(counts_words.most_common()))\n",
    "vocab_size = len(counts_words.most_common()) + 1\n",
    "top_words_count = 5000\n",
    "common_words = counts_words.most_common(top_words_count)\n",
    "\n",
    "word_index = dict()\n",
    "i = 1\n",
    "for word,frequency in common_words:\n",
    "    word_index[word] = i\n",
    "    i += 1\n",
    "\n",
    "print()\n",
    "print(\"Top 25 words with their frequencies:\")\n",
    "print(counts_words.most_common(25))\n",
    "print()\n",
    "print(\"Top 25 words with their index:\")\n",
    "print(list(islice(word_index.items(), 25)))"
   ]
  },
  {
   "cell_type": "code",
   "execution_count": 53,
   "metadata": {
    "trusted": true
   },
   "outputs": [
    {
     "data": {
      "text/plain": [
       "pandas.core.series.Series"
      ]
     },
     "execution_count": 53,
     "metadata": {},
     "output_type": "execute_result"
    }
   ],
   "source": [
    "type(X_Data_Text)"
   ]
  },
  {
   "cell_type": "markdown",
   "metadata": {},
   "source": [
    "## Create a new Column called \"CleanedText_Index\" and add the index of each word occured in the \"Cleaned_text\""
   ]
  },
  {
   "cell_type": "code",
   "execution_count": 33,
   "metadata": {
    "trusted": true
   },
   "outputs": [
    {
     "data": {
      "text/html": [
       "<div>\n<style scoped>\n    .dataframe tbody tr th:only-of-type {\n        vertical-align: middle;\n    }\n\n    .dataframe tbody tr th {\n        vertical-align: top;\n    }\n\n    .dataframe thead th {\n        text-align: right;\n    }\n</style>\n<table border=\"1\" class=\"dataframe\">\n  <thead>\n    <tr style=\"text-align: right;\">\n      <th></th>\n      <th>Id</th>\n      <th>ProductId</th>\n      <th>UserId</th>\n      <th>ProfileName</th>\n      <th>HelpfulnessNumerator</th>\n      <th>HelpfulnessDenominator</th>\n      <th>Score</th>\n      <th>Time</th>\n      <th>Summary</th>\n      <th>Text</th>\n      <th>Cleaned_text</th>\n      <th>total_words</th>\n      <th>CleanedText_Index</th>\n    </tr>\n  </thead>\n  <tbody>\n    <tr>\n      <th>138706</th>\n      <td>150524</td>\n      <td>0006641040</td>\n      <td>ACITT7DI6IDDL</td>\n      <td>shari zychinski</td>\n      <td>0</td>\n      <td>0</td>\n      <td>positive</td>\n      <td>939340800</td>\n      <td>EVERY book is educational</td>\n      <td>this witty little book makes my son laugh at l...</td>\n      <td>witti littl book make son laugh loud recit car...</td>\n      <td>34</td>\n      <td>[0, 27, 932, 11, 384, 1976, 2578, 0, 1196, 123...</td>\n    </tr>\n    <tr>\n      <th>138688</th>\n      <td>150506</td>\n      <td>0006641040</td>\n      <td>A2IW4PEEKO2R0U</td>\n      <td>Tracy</td>\n      <td>1</td>\n      <td>1</td>\n      <td>positive</td>\n      <td>1194739200</td>\n      <td>Love the book, miss the hard cover version</td>\n      <td>I grew up reading these Sendak books, and watc...</td>\n      <td>grew read sendak book watch realli rosi movi i...</td>\n      <td>27</td>\n      <td>[995, 247, 0, 932, 551, 23, 0, 988, 2594, 10, ...</td>\n    </tr>\n    <tr>\n      <th>138689</th>\n      <td>150507</td>\n      <td>0006641040</td>\n      <td>A1S4A3IQ2MU7V4</td>\n      <td>sally sue \"sally sue\"</td>\n      <td>1</td>\n      <td>1</td>\n      <td>positive</td>\n      <td>1191456000</td>\n      <td>chicken soup with rice months</td>\n      <td>This is a fun way for children to learn their ...</td>\n      <td>fun way children learn month year learn poem t...</td>\n      <td>15</td>\n      <td>[644, 56, 776, 731, 129, 35, 731, 0, 1410, 928...</td>\n    </tr>\n    <tr>\n      <th>138690</th>\n      <td>150508</td>\n      <td>0006641040</td>\n      <td>AZGXZ2UUK6X</td>\n      <td>Catherine Hallberg \"(Kate)\"</td>\n      <td>1</td>\n      <td>1</td>\n      <td>positive</td>\n      <td>1076025600</td>\n      <td>a good swingy rhythm for reading aloud</td>\n      <td>This is a great little book to read aloud- it ...</td>\n      <td>great littl book read nice rhythm well good re...</td>\n      <td>49</td>\n      <td>[9, 27, 932, 247, 85, 0, 33, 4, 0, 27, 8, 1, 4...</td>\n    </tr>\n    <tr>\n      <th>138691</th>\n      <td>150509</td>\n      <td>0006641040</td>\n      <td>A3CMRKGE0P909G</td>\n      <td>Teresa</td>\n      <td>3</td>\n      <td>4</td>\n      <td>positive</td>\n      <td>1018396800</td>\n      <td>A great way to learn the months</td>\n      <td>This is a book of poetry about the months of t...</td>\n      <td>book poetri month year goe month cute littl po...</td>\n      <td>37</td>\n      <td>[932, 0, 129, 35, 378, 129, 1475, 27, 0, 492, ...</td>\n    </tr>\n  </tbody>\n</table>\n</div>"
      ],
      "text/plain": [
       "            Id   ProductId          UserId                  ProfileName  \\\n138706  150524  0006641040   ACITT7DI6IDDL              shari zychinski   \n138688  150506  0006641040  A2IW4PEEKO2R0U                        Tracy   \n138689  150507  0006641040  A1S4A3IQ2MU7V4        sally sue \"sally sue\"   \n138690  150508  0006641040     AZGXZ2UUK6X  Catherine Hallberg \"(Kate)\"   \n138691  150509  0006641040  A3CMRKGE0P909G                       Teresa   \n\n        HelpfulnessNumerator  HelpfulnessDenominator     Score        Time  \\\n138706                     0                       0  positive   939340800   \n138688                     1                       1  positive  1194739200   \n138689                     1                       1  positive  1191456000   \n138690                     1                       1  positive  1076025600   \n138691                     3                       4  positive  1018396800   \n\n                                           Summary  \\\n138706                   EVERY book is educational   \n138688  Love the book, miss the hard cover version   \n138689               chicken soup with rice months   \n138690      a good swingy rhythm for reading aloud   \n138691             A great way to learn the months   \n\n                                                     Text  \\\n138706  this witty little book makes my son laugh at l...   \n138688  I grew up reading these Sendak books, and watc...   \n138689  This is a fun way for children to learn their ...   \n138690  This is a great little book to read aloud- it ...   \n138691  This is a book of poetry about the months of t...   \n\n                                             Cleaned_text  total_words  \\\n138706  witti littl book make son laugh loud recit car...           34   \n138688  grew read sendak book watch realli rosi movi i...           27   \n138689  fun way children learn month year learn poem t...           15   \n138690  great littl book read nice rhythm well good re...           49   \n138691  book poetri month year goe month cute littl po...           37   \n\n                                        CleanedText_Index  \n138706  [0, 27, 932, 11, 384, 1976, 2578, 0, 1196, 123...  \n138688  [995, 247, 0, 932, 551, 23, 0, 988, 2594, 10, ...  \n138689  [644, 56, 776, 731, 129, 35, 731, 0, 1410, 928...  \n138690  [9, 27, 932, 247, 85, 0, 33, 4, 0, 27, 8, 1, 4...  \n138691  [932, 0, 129, 35, 378, 129, 1475, 27, 0, 492, ...  "
      ]
     },
     "execution_count": 33,
     "metadata": {},
     "output_type": "execute_result"
    }
   ],
   "source": [
    "def use_index(row):   \n",
    "    holder = []\n",
    "    for word in row['Cleaned_text'].split():\n",
    "        if word in word_index:\n",
    "            holder.append(word_index[word]) \n",
    "        else:\n",
    "            holder.append(0)            \n",
    "    return holder\n",
    "\n",
    "\n",
    "final_data_100K['CleanedText_Index'] = final_data_100K.apply(lambda row: use_index(row),axis=1)\n",
    "final_data_100K.head(5)"
   ]
  },
  {
   "cell_type": "markdown",
   "metadata": {},
   "source": [
    "## Convert the Score to 1 & 0.\n## positive - 1 \n## negative - 0"
   ]
  },
  {
   "cell_type": "code",
   "execution_count": 34,
   "metadata": {
    "trusted": true
   },
   "outputs": [
    {
     "data": {
      "text/html": [
       "<div>\n<style scoped>\n    .dataframe tbody tr th:only-of-type {\n        vertical-align: middle;\n    }\n\n    .dataframe tbody tr th {\n        vertical-align: top;\n    }\n\n    .dataframe thead th {\n        text-align: right;\n    }\n</style>\n<table border=\"1\" class=\"dataframe\">\n  <thead>\n    <tr style=\"text-align: right;\">\n      <th></th>\n      <th>Id</th>\n      <th>ProductId</th>\n      <th>UserId</th>\n      <th>ProfileName</th>\n      <th>HelpfulnessNumerator</th>\n      <th>HelpfulnessDenominator</th>\n      <th>Score</th>\n      <th>Time</th>\n      <th>Summary</th>\n      <th>Text</th>\n      <th>Cleaned_text</th>\n      <th>total_words</th>\n      <th>CleanedText_Index</th>\n    </tr>\n  </thead>\n  <tbody>\n    <tr>\n      <th>138706</th>\n      <td>150524</td>\n      <td>0006641040</td>\n      <td>ACITT7DI6IDDL</td>\n      <td>shari zychinski</td>\n      <td>0</td>\n      <td>0</td>\n      <td>1</td>\n      <td>939340800</td>\n      <td>EVERY book is educational</td>\n      <td>this witty little book makes my son laugh at l...</td>\n      <td>witti littl book make son laugh loud recit car...</td>\n      <td>34</td>\n      <td>[0, 27, 932, 11, 384, 1976, 2578, 0, 1196, 123...</td>\n    </tr>\n    <tr>\n      <th>138688</th>\n      <td>150506</td>\n      <td>0006641040</td>\n      <td>A2IW4PEEKO2R0U</td>\n      <td>Tracy</td>\n      <td>1</td>\n      <td>1</td>\n      <td>1</td>\n      <td>1194739200</td>\n      <td>Love the book, miss the hard cover version</td>\n      <td>I grew up reading these Sendak books, and watc...</td>\n      <td>grew read sendak book watch realli rosi movi i...</td>\n      <td>27</td>\n      <td>[995, 247, 0, 932, 551, 23, 0, 988, 2594, 10, ...</td>\n    </tr>\n    <tr>\n      <th>138689</th>\n      <td>150507</td>\n      <td>0006641040</td>\n      <td>A1S4A3IQ2MU7V4</td>\n      <td>sally sue \"sally sue\"</td>\n      <td>1</td>\n      <td>1</td>\n      <td>1</td>\n      <td>1191456000</td>\n      <td>chicken soup with rice months</td>\n      <td>This is a fun way for children to learn their ...</td>\n      <td>fun way children learn month year learn poem t...</td>\n      <td>15</td>\n      <td>[644, 56, 776, 731, 129, 35, 731, 0, 1410, 928...</td>\n    </tr>\n    <tr>\n      <th>138690</th>\n      <td>150508</td>\n      <td>0006641040</td>\n      <td>AZGXZ2UUK6X</td>\n      <td>Catherine Hallberg \"(Kate)\"</td>\n      <td>1</td>\n      <td>1</td>\n      <td>1</td>\n      <td>1076025600</td>\n      <td>a good swingy rhythm for reading aloud</td>\n      <td>This is a great little book to read aloud- it ...</td>\n      <td>great littl book read nice rhythm well good re...</td>\n      <td>49</td>\n      <td>[9, 27, 932, 247, 85, 0, 33, 4, 0, 27, 8, 1, 4...</td>\n    </tr>\n    <tr>\n      <th>138691</th>\n      <td>150509</td>\n      <td>0006641040</td>\n      <td>A3CMRKGE0P909G</td>\n      <td>Teresa</td>\n      <td>3</td>\n      <td>4</td>\n      <td>1</td>\n      <td>1018396800</td>\n      <td>A great way to learn the months</td>\n      <td>This is a book of poetry about the months of t...</td>\n      <td>book poetri month year goe month cute littl po...</td>\n      <td>37</td>\n      <td>[932, 0, 129, 35, 378, 129, 1475, 27, 0, 492, ...</td>\n    </tr>\n  </tbody>\n</table>\n</div>"
      ],
      "text/plain": [
       "            Id   ProductId          UserId                  ProfileName  \\\n138706  150524  0006641040   ACITT7DI6IDDL              shari zychinski   \n138688  150506  0006641040  A2IW4PEEKO2R0U                        Tracy   \n138689  150507  0006641040  A1S4A3IQ2MU7V4        sally sue \"sally sue\"   \n138690  150508  0006641040     AZGXZ2UUK6X  Catherine Hallberg \"(Kate)\"   \n138691  150509  0006641040  A3CMRKGE0P909G                       Teresa   \n\n        HelpfulnessNumerator  HelpfulnessDenominator  Score        Time  \\\n138706                     0                       0      1   939340800   \n138688                     1                       1      1  1194739200   \n138689                     1                       1      1  1191456000   \n138690                     1                       1      1  1076025600   \n138691                     3                       4      1  1018396800   \n\n                                           Summary  \\\n138706                   EVERY book is educational   \n138688  Love the book, miss the hard cover version   \n138689               chicken soup with rice months   \n138690      a good swingy rhythm for reading aloud   \n138691             A great way to learn the months   \n\n                                                     Text  \\\n138706  this witty little book makes my son laugh at l...   \n138688  I grew up reading these Sendak books, and watc...   \n138689  This is a fun way for children to learn their ...   \n138690  This is a great little book to read aloud- it ...   \n138691  This is a book of poetry about the months of t...   \n\n                                             Cleaned_text  total_words  \\\n138706  witti littl book make son laugh loud recit car...           34   \n138688  grew read sendak book watch realli rosi movi i...           27   \n138689  fun way children learn month year learn poem t...           15   \n138690  great littl book read nice rhythm well good re...           49   \n138691  book poetri month year goe month cute littl po...           37   \n\n                                        CleanedText_Index  \n138706  [0, 27, 932, 11, 384, 1976, 2578, 0, 1196, 123...  \n138688  [995, 247, 0, 932, 551, 23, 0, 988, 2594, 10, ...  \n138689  [644, 56, 776, 731, 129, 35, 731, 0, 1410, 928...  \n138690  [9, 27, 932, 247, 85, 0, 33, 4, 0, 27, 8, 1, 4...  \n138691  [932, 0, 129, 35, 378, 129, 1475, 27, 0, 492, ...  "
      ]
     },
     "execution_count": 34,
     "metadata": {},
     "output_type": "execute_result"
    }
   ],
   "source": [
    "final_data_100K['Score'] = final_data_100K['Score'].map(lambda x : 1 if x == 'positive' else 0)\n",
    "final_data_100K.head(5)"
   ]
  },
  {
   "cell_type": "code",
   "execution_count": 35,
   "metadata": {
    "trusted": true
   },
   "outputs": [
    {
     "data": {
      "text/plain": [
       "138706    [0, 27, 932, 11, 384, 1976, 2578, 0, 1196, 123...\n138688    [995, 247, 0, 932, 551, 23, 0, 988, 2594, 10, ...\nName: CleanedText_Index, dtype: object"
      ]
     },
     "execution_count": 35,
     "metadata": {},
     "output_type": "execute_result"
    }
   ],
   "source": [
    "final_data_100K['CleanedText_Index'].head(2)"
   ]
  },
  {
   "cell_type": "markdown",
   "metadata": {},
   "source": [
    "## Split the Data into TEST and Train "
   ]
  },
  {
   "cell_type": "code",
   "execution_count": 36,
   "metadata": {
    "trusted": true
   },
   "outputs": [],
   "source": [
    "X_Train, X_Test, Y_Train, Y_Test = train_test_split(final_data_100K['CleanedText_Index'].values,final_data_100K['Score'],test_size=0.3,shuffle=False,random_state=0)"
   ]
  },
  {
   "cell_type": "code",
   "execution_count": 39,
   "metadata": {
    "trusted": true
   },
   "outputs": [
    {
     "data": {
      "text/plain": [
       "[365,\n 1773,\n 266,\n 295,\n 37,\n 247,\n 384,\n 539,\n 465,\n 2206,\n 776,\n 932,\n 8,\n 31,\n 3423,\n 0,\n 90,\n 688,\n 65,\n 247,\n 0,\n 10,\n 932,\n 3810,\n 129,\n 35,\n 1473,\n 247,\n 33,\n 1964,\n 130,\n 776,\n 932,\n 200,\n 2084,\n 0,\n 0,\n 932,\n 149,\n 2024,\n 3032,\n 1033,\n 774,\n 0,\n 31]"
      ]
     },
     "execution_count": 39,
     "metadata": {},
     "output_type": "execute_result"
    }
   ],
   "source": [
    "X_Train[6]"
   ]
  },
  {
   "cell_type": "markdown",
   "metadata": {},
   "source": [
    "### Apply Padding "
   ]
  },
  {
   "cell_type": "code",
   "execution_count": 37,
   "metadata": {
    "trusted": true
   },
   "outputs": [
    {
     "name": "stdout",
     "output_type": "stream",
     "text": [
      "(70000, 600)\n[   0    0    0    0    0    0    0    0    0    0    0    0    0    0\n    0    0    0    0    0    0    0    0    0    0    0    0    0    0\n    0    0    0    0    0    0    0    0    0    0    0    0    0    0\n    0    0    0    0    0    0    0    0    0    0    0    0    0    0\n    0    0    0    0    0    0    0    0    0    0    0    0    0    0\n    0    0    0    0    0    0    0    0    0    0    0    0    0    0\n    0    0    0    0    0    0    0    0    0    0    0    0    0    0\n    0    0    0    0    0    0    0    0    0    0    0    0    0    0\n    0    0    0    0    0    0    0    0    0    0    0    0    0    0\n    0    0    0    0    0    0    0    0    0    0    0    0    0    0\n    0    0    0    0    0    0    0    0    0    0    0    0    0    0\n    0    0    0    0    0    0    0    0    0    0    0    0    0    0\n    0    0    0    0    0    0    0    0    0    0    0    0    0    0\n    0    0    0    0    0    0    0    0    0    0    0    0    0    0\n    0    0    0    0    0    0    0    0    0    0    0    0    0    0\n    0    0    0    0    0    0    0    0    0    0    0    0    0    0\n    0    0    0    0    0    0    0    0    0    0    0    0    0    0\n    0    0    0    0    0    0    0    0    0    0    0    0    0    0\n    0    0    0    0    0    0    0    0    0    0    0    0    0    0\n    0    0    0    0    0    0    0    0    0    0    0    0    0    0\n    0    0    0    0    0    0    0    0    0    0    0    0    0    0\n    0    0    0    0    0    0    0    0    0    0    0    0    0    0\n    0    0    0    0    0    0    0    0    0    0    0    0    0    0\n    0    0    0    0    0    0    0    0    0    0    0    0    0    0\n    0    0    0    0    0    0    0    0    0    0    0    0    0    0\n    0    0    0    0    0    0    0    0    0    0    0    0    0    0\n    0    0    0    0    0    0    0    0    0    0    0    0    0    0\n    0    0    0    0    0    0    0    0    0    0    0    0    0    0\n    0    0    0    0    0    0    0    0    0    0    0    0    0    0\n    0    0    0    0    0    0    0    0    0    0    0    0    0    0\n    0    0    0    0    0    0    0    0    0    0    0    0    0    0\n    0    0    0    0    0    0    0    0    0    0    0    0    0    0\n    0    0    0    0    0    0    0    0    0    0    0    0    0    0\n    0    0    0    0    0    0    0    0    0    0    0    0    0    0\n    0    0    0    0    0    0    0    0    0    0    0    0    0    0\n    0    0    0    0    0    0    0    0    0    0    0    0    0    0\n    0    0    0    0    0    0    0    0    0    0    0    0    0    0\n    0    0    0    0    0    0    0    0    0    0    0    0    0    0\n    0    0    0    0    0    0    0    0    0    0    0    0    0    0\n    0    0    0    0    0    0    0    0    0    0    0    0    0    0\n    0    0    0    0    0    0    0    0    0    0    0    0    0  995\n  247    0  932  551   23    0  988 2594   10  384   10  149  558  111\n  562  366    0  113  211 3563   82   63  252   68 1751  166]\n"
     ]
    }
   ],
   "source": [
    "from keras.preprocessing import sequence\n",
    "\n",
    "max_review_length = 600\n",
    "X_Train = sequence.pad_sequences(X_Train, maxlen=max_review_length)\n",
    "X_Test = sequence.pad_sequences(X_Test, maxlen=max_review_length)\n",
    "\n",
    "print(X_Train.shape)\n",
    "print(X_Train[1])"
   ]
  },
  {
   "cell_type": "code",
   "execution_count": 38,
   "metadata": {
    "trusted": true
   },
   "outputs": [
    {
     "name": "stdout",
     "output_type": "stream",
     "text": [
      "[name: \"/device:CPU:0\"\ndevice_type: \"CPU\"\nmemory_limit: 268435456\nlocality {\n}\nincarnation: 6202525998069733733\n, name: \"/device:XLA_CPU:0\"\ndevice_type: \"XLA_CPU\"\nmemory_limit: 17179869184\nlocality {\n}\nincarnation: 15694142288273005724\nphysical_device_desc: \"device: XLA_CPU device\"\n, name: \"/device:GPU:0\"\ndevice_type: \"GPU\"\nmemory_limit: 15695549568\nlocality {\n  bus_id: 1\n  links {\n  }\n}\nincarnation: 16992963004178590259\nphysical_device_desc: \"device: 0, name: Tesla P100-PCIE-16GB, pci bus id: 0000:00:04.0, compute capability: 6.0\"\n, name: \"/device:XLA_GPU:0\"\ndevice_type: \"XLA_GPU\"\nmemory_limit: 17179869184\nlocality {\n}\nincarnation: 15462798390071149482\nphysical_device_desc: \"device: XLA_GPU device\"\n]\n"
     ]
    }
   ],
   "source": [
    "from tensorflow.python.client import device_lib\n",
    "print(device_lib.list_local_devices())"
   ]
  },
  {
   "cell_type": "markdown",
   "metadata": {},
   "source": [
    "## Apply LSTM 1"
   ]
  },
  {
   "cell_type": "code",
   "execution_count": 40,
   "metadata": {
    "trusted": true
   },
   "outputs": [
    {
     "name": "stdout",
     "output_type": "stream",
     "text": [
      "Model: \"sequential\"\n_________________________________________________________________\nLayer (type)                 Output Shape              Param #   \n=================================================================\nembedding (Embedding)        (None, 600, 32)           160032    \n_________________________________________________________________\nlstm (LSTM)                  (None, 100)               53200     \n_________________________________________________________________\ndense (Dense)                (None, 1)                 101       \n=================================================================\nTotal params: 213,333\nTrainable params: 213,333\nNon-trainable params: 0\n_________________________________________________________________\nNone\n"
     ]
    }
   ],
   "source": [
    "import numpy\n",
    "numpy.random.seed(7)\n",
    "\n",
    "embedding_vecor_length = 32\n",
    "model = Sequential()\n",
    "model.add(Embedding(top_words_count+1, embedding_vecor_length, input_length=max_review_length))\n",
    "model.add(LSTM(100))\n",
    "model.add(Dense(1, activation='sigmoid'))\n",
    "model.compile(loss='binary_crossentropy', optimizer='adam', metrics=['accuracy'])\n",
    "print(model.summary())"
   ]
  },
  {
   "cell_type": "code",
   "execution_count": 41,
   "metadata": {
    "trusted": true
   },
   "outputs": [
    {
     "name": "stdout",
     "output_type": "stream",
     "text": [
      "Epoch 1/10\n1094/1094 [==============================] - 35s 32ms/step - loss: 0.2506 - accuracy: 0.9027\nEpoch 2/10\n1094/1094 [==============================] - 34s 31ms/step - loss: 0.1884 - accuracy: 0.9275\nEpoch 3/10\n1094/1094 [==============================] - 35s 32ms/step - loss: 0.1729 - accuracy: 0.9331\nEpoch 4/10\n1094/1094 [==============================] - 34s 31ms/step - loss: 0.1582 - accuracy: 0.9391\nEpoch 5/10\n1094/1094 [==============================] - 35s 32ms/step - loss: 0.1433 - accuracy: 0.9451\nEpoch 6/10\n1094/1094 [==============================] - 34s 32ms/step - loss: 0.1301 - accuracy: 0.9502\nEpoch 7/10\n1094/1094 [==============================] - 34s 31ms/step - loss: 0.1176 - accuracy: 0.9563\nEpoch 8/10\n1094/1094 [==============================] - 35s 32ms/step - loss: 0.1034 - accuracy: 0.9624\nEpoch 9/10\n1094/1094 [==============================] - 34s 31ms/step - loss: 0.0903 - accuracy: 0.9674\nEpoch 10/10\n1094/1094 [==============================] - 35s 32ms/step - loss: 0.0816 - accuracy: 0.9707\nAccuracy: 90.80%\n"
     ]
    }
   ],
   "source": [
    "model.fit(X_Train, Y_Train, epochs=10, batch_size=64)\n",
    "# Final evaluation of the model\n",
    "scores = model.evaluate(X_Test, Y_Test, verbose=0)\n",
    "print(\"Accuracy: %.2f%%\" % (scores[1]*100))"
   ]
  },
  {
   "cell_type": "code",
   "execution_count": 43,
   "metadata": {
    "trusted": true
   },
   "outputs": [
    {
     "name": "stdout",
     "output_type": "stream",
     "text": [
      "Test score:  0.3073323667049408\nTest accuracy:  0.9080333113670349\n"
     ]
    }
   ],
   "source": [
    "print('Test score: ',scores[0])\n",
    "print('Test accuracy: ',scores[1])"
   ]
  },
  {
   "cell_type": "code",
   "execution_count": 46,
   "metadata": {
    "trusted": true
   },
   "outputs": [
    {
     "name": "stdout",
     "output_type": "stream",
     "text": [
      "Model: \"sequential_3\"\n_________________________________________________________________\nLayer (type)                 Output Shape              Param #   \n=================================================================\nembedding_2 (Embedding)      (None, 600, 32)           160032    \n_________________________________________________________________\nlstm_3 (LSTM)                (None, 600, 100)          53200     \n_________________________________________________________________\ndropout_1 (Dropout)          (None, 600, 100)          0         \n_________________________________________________________________\nlstm_4 (LSTM)                (None, 80)                57920     \n_________________________________________________________________\ndropout_2 (Dropout)          (None, 80)                0         \n_________________________________________________________________\ndense_1 (Dense)              (None, 1)                 81        \n=================================================================\nTotal params: 271,233\nTrainable params: 271,233\nNon-trainable params: 0\n_________________________________________________________________\nNone\n"
     ]
    }
   ],
   "source": [
    "embedding_vecor_length = 32\n",
    "model2 = Sequential()\n",
    "model2.add(Embedding(top_words_count+1, embedding_vecor_length, input_length=max_review_length))\n",
    "model2.add(LSTM(100,return_sequences=True))\n",
    "model2.add(Dropout(0.25))\n",
    "model2.add(LSTM(80))\n",
    "model2.add(Dropout(0.5))\n",
    "model2.add(Dense(1, activation='sigmoid'))\n",
    "model2.compile(loss='binary_crossentropy', optimizer='adam', metrics=['accuracy'])\n",
    "print(model2.summary())"
   ]
  },
  {
   "cell_type": "code",
   "execution_count": 47,
   "metadata": {
    "trusted": true
   },
   "outputs": [
    {
     "name": "stdout",
     "output_type": "stream",
     "text": [
      "Epoch 1/10\n1094/1094 [==============================] - 62s 56ms/step - loss: 0.2522 - accuracy: 0.9031\nEpoch 2/10\n1094/1094 [==============================] - 61s 56ms/step - loss: 0.1947 - accuracy: 0.9255\nEpoch 3/10\n1094/1094 [==============================] - 62s 56ms/step - loss: 0.1744 - accuracy: 0.9338\nEpoch 4/10\n1094/1094 [==============================] - 62s 57ms/step - loss: 0.1582 - accuracy: 0.9408\nEpoch 5/10\n1094/1094 [==============================] - 63s 57ms/step - loss: 0.1411 - accuracy: 0.9471\nEpoch 6/10\n1094/1094 [==============================] - 62s 57ms/step - loss: 0.1289 - accuracy: 0.9530\nEpoch 7/10\n1094/1094 [==============================] - 62s 56ms/step - loss: 0.1125 - accuracy: 0.9602\nEpoch 8/10\n1094/1094 [==============================] - 62s 56ms/step - loss: 0.1002 - accuracy: 0.9654\nEpoch 9/10\n1094/1094 [==============================] - 61s 56ms/step - loss: 0.0897 - accuracy: 0.9695\nEpoch 10/10\n1094/1094 [==============================] - 62s 56ms/step - loss: 0.0800 - accuracy: 0.9733\nAccuracy: 90.68%\n"
     ]
    }
   ],
   "source": [
    "model2.fit(X_Train, Y_Train, epochs=10, batch_size=64)\n",
    "# Final evaluation of the model\n",
    "scores = model2.evaluate(X_Test, Y_Test, verbose=0)\n",
    "print(\"Accuracy: %.2f%%\" % (scores[1]*100))"
   ]
  },
  {
   "cell_type": "code",
   "execution_count": 48,
   "metadata": {
    "trusted": true
   },
   "outputs": [
    {
     "name": "stdout",
     "output_type": "stream",
     "text": [
      "Test score:  0.3317498564720154\nTest accuracy:  0.9067999720573425\n"
     ]
    }
   ],
   "source": [
    "print('Test score: ',scores[0])\n",
    "print('Test accuracy: ',scores[1])"
   ]
  },
  {
   "cell_type": "markdown",
   "metadata": {},
   "source": [
    "# CONCLUSION \n\n## After using LSTM Models , below are the conlusion made \n\n1. LSTM without Dropouts --> Accuracy is 90.80%\n2. LSTM with Dropout --> Accuracy is 90.67%"
   ]
  }
 ],
 "metadata": {
  "kernelspec": {
   "name": "python3",
   "display_name": "Python 3",
   "language": "python"
  },
  "language_info": {
   "name": "python",
   "version": "3.7.6",
   "mimetype": "text/x-python",
   "codemirror_mode": {
    "name": "ipython",
    "version": 3
   },
   "pygments_lexer": "ipython3",
   "nbconvert_exporter": "python",
   "file_extension": ".py"
  }
 },
 "nbformat": 4,
 "nbformat_minor": 4
}
